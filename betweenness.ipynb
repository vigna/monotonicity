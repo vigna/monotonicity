{
 "cells": [
  {
   "cell_type": "code",
   "execution_count": 1,
   "metadata": {},
   "outputs": [],
   "source": [
    "import networkx as nx\n",
    "from collections import defaultdict"
   ]
  },
  {
   "cell_type": "markdown",
   "metadata": {},
   "source": [
    "# Betweenness Counterexample"
   ]
  },
  {
   "cell_type": "code",
   "execution_count": 2,
   "metadata": {},
   "outputs": [],
   "source": [
    "def getGH(jj=1, kk=1, hh=1):\n",
    "    G = nx.Graph()\n",
    "    G.add_nodes_from([0,1,2])\n",
    "    G.add_edges_from([(\"a\",\"b\"), (\"b\",\"c\"), (\"c\",\"d\"), (\"d\",2), (2,1), (1,\"a\"), (\"a\",0)])\n",
    "    labels = defaultdict(lambda: \"\")\n",
    "    for i in range(3):\n",
    "        labels[i] = i\n",
    "    for i in range(jj):\n",
    "        G.add_edge(\"4_{}\".format(i), \"c\")\n",
    "        G.add_edge(\"4_{}\".format(i), \"d\")\n",
    "        labels[\"4_{}\".format(i)]=4\n",
    "    for i in range(kk):\n",
    "        G.add_edge(\"3_{}\".format(i), 0)\n",
    "        labels[\"3_{}\".format(i)]=3\n",
    "    for i in range(hh):\n",
    "        G.add_edge(\"5_{}\".format(i), 1)\n",
    "        labels[\"5_{}\".format(i)]=5\n",
    "    H = G.copy()\n",
    "    H.add_edge(0,1,color=\"r\")\n",
    "    return G, H, labels"
   ]
  },
  {
   "cell_type": "code",
   "execution_count": 3,
   "metadata": {},
   "outputs": [
    {
     "data": {
      "image/png": "[encoded data removed]",
      "text/plain": [
       "<Figure size 432x288 with 1 Axes>"
      ]
     },
     "metadata": {},
     "output_type": "display_data"
    }
   ],
   "source": [
    "G, H, labels = getGH(3,4,5)\n",
    "nx.draw(H, nx.kamada_kawai_layout(H), with_labels=True, labels=labels, node_color=[\"red\"]*2+[\"lightblue\"]*(len(G)-2))"
   ]
  },
  {
   "cell_type": "markdown",
   "metadata": {},
   "source": [
    "Here are two dictionaries whose keys are the nodes of the graphs $G$ and $H$ (the first representative of nodes that have replicas), and whose values are expressions in $h$, $j$, $k$ with the betweenness of the corresponding node in $G$ and $H$."
   ]
  },
  {
   "cell_type": "code",
   "execution_count": 4,
   "metadata": {},
   "outputs": [],
   "source": [
    "var('h', 'k', 'j')\n",
    "pre = {0:      k*(2*h+2*j+k+11)/2,\n",
    "       1:      (h^2+(2*j+2*k+11)*h+3*k+7)/2,\n",
    "       2:      ((2*h+2)*j+3*h+k+5)/2,\n",
    "       \"3_0\":  0,\n",
    "       \"4_0\":  0,\n",
    "       \"5_0\":  0,\n",
    "       \"a\":    6 + 2/2 + j + 5*k + 5*h/2 + k*j + k*h,\n",
    "       \"b\":    2 + 3/2 + 2*j + 3*k/2 + h/2 + k*j,\n",
    "       \"c\":    1 + 3/2 + 3*j + k/2 + j*(j-1)/4 + k*j,\n",
    "       \"d\":    1 + 2/2 + 2*j + h/2 + j*(j-1)/4 + h*j,\n",
    "      }\n",
    "\n",
    "post = {0:     k*(2*h+2*j+k+11)/2,\n",
    "        1:     (h^2+(2*j+2*k+11)*h+(k+1)*(j+4)+4)/2,\n",
    "        2:     ((2*h+k+3)*j+3*h+2*k+6)/2,\n",
    "        \"3_0\": 0,\n",
    "        \"4_0\": 0,\n",
    "        \"5_0\": 0,\n",
    "        \"a\":   3 + 2/2 + j/2 + 2*k + 3*h/2 + j*k/2,\n",
    "        \"b\":   2 + 2/2 + 3*j/2 + k + h/2 + j*k/2,\n",
    "        \"c\":   1 + 2/2 + 5*j/2 + j*k/2 + j*(j-1)/4,\n",
    "        \"d\":   1 + 2/2 + 5*j/2 + h/2 + j*(j-1)/4 + j*k/2 + j*h\n",
    "       }"
   ]
  },
  {
   "cell_type": "markdown",
   "metadata": {},
   "source": [
    "For specific values of $j$,$k$,$r$, actually compute the example graph and numerically evaluate its betweenness."
   ]
  },
  {
   "cell_type": "code",
   "execution_count": 5,
   "metadata": {},
   "outputs": [],
   "source": [
    "for jj in range(1,8):\n",
    "    for kk in range(1,8):\n",
    "        for hh in range(1,8):\n",
    "            G,H,labels=getGH(jj,kk,hh)\n",
    "            before = nx.betweenness_centrality(G, normalized=False)\n",
    "            after = nx.betweenness_centrality(H, normalized=False)\n",
    "\n",
    "            # Careful! pre[i] can be a constant (on which Sage is unable to perform substitutions). That is why we add\n",
    "            # \"0*h\" (which is harmless by itself)\n",
    "            for i in [0, 1, 2, \"3_0\", \"4_0\", \"5_0\", \"a\", \"b\", \"c\", \"d\"]:\n",
    "                assert (pre[i]+0*h)(h=hh)(k=kk)(j=jj) == before[i], \"{}: {} vs. {}\".format(i, (pre[i]+0*h)(h=hh)(k=kk)(j=jj), before[i])\n",
    "                assert (post[i]+0*h)(h=hh)(k=kk)(j=jj) == after[i], \"{}: {} vs. {}\".format(i, (post[i]+0*h)(h=hh)(k=kk)(j=jj), after[i])"
   ]
  },
  {
   "cell_type": "markdown",
   "metadata": {},
   "source": [
    "Show that setting $k=2+h$, $j=4h$, and imposing that vertex 0 loses rank w.r.t. vertex 2, that vertex 0 is more important than vertex 1 (top violation), and that vertex 0 is demoted by one position, we get that these conditions hold for ever $h\\geq 12$."
   ]
  },
  {
   "cell_type": "code",
   "execution_count": 6,
   "metadata": {},
   "outputs": [
    {
     "name": "stdout",
     "output_type": "stream",
     "text": [
      "True for h ≥ 12\n"
     ]
    }
   ],
   "source": [
    "kexp=2+h\n",
    "jexp=4*h\n",
    "\n",
    "a = [\n",
    "    # 0 loses 1 position\n",
    "    (pre[0]>pre[1])(j=jexp)(k=kexp),\n",
    "    (post[0]<post[1])(j=jexp)(k=kexp),\n",
    "    \n",
    "    # 0 loses 1 position\n",
    "    # Also: counterexample to rank monotonicity w.r.t. 2\n",
    "    (pre[0]>pre[2])(j=jexp)(k=kexp),\n",
    "    (post[0]<post[2])(j=jexp)(k=kexp),\n",
    "    \n",
    "    (pre[0]>pre[\"3_0\"])(j=jexp)(k=kexp),\n",
    "    (post[0]>post[\"3_0\"])(j=jexp)(k=kexp),\n",
    "\n",
    "    (pre[0]>pre[\"4_0\"])(j=jexp)(k=kexp),\n",
    "    (post[0]>post[\"4_0\"])(j=jexp)(k=kexp),\n",
    "\n",
    "    (pre[0]>pre[\"5_0\"])(j=jexp)(k=kexp),\n",
    "    (post[0]>post[\"5_0\"])(j=jexp)(k=kexp),\n",
    "\n",
    "    (pre[0]>pre[\"a\"])(j=jexp)(k=kexp),\n",
    "    (post[0]>post[\"a\"])(j=jexp)(k=kexp),\n",
    "\n",
    "    (pre[0]>pre[\"b\"])(j=jexp)(k=kexp),\n",
    "    (post[0]>post[\"b\"])(j=jexp)(k=kexp),\n",
    "\n",
    "    (pre[0]<pre[\"c\"])(j=jexp)(k=kexp),\n",
    "    (post[0]<post[\"c\"])(j=jexp)(k=kexp),\n",
    "    \n",
    "    (pre[0]<pre[\"d\"])(j=jexp)(k=kexp),\n",
    "    (post[0]<post[\"d\"])(j=jexp)(k=kexp),\n",
    "    \n",
    "    # Counterexample to score monotonicity\n",
    "    (pre[0]==post[0])(j=jexp)(k=kexp),\n",
    "]\n",
    "\n",
    "# Maybe there's a better way, but I couldn't find it\n",
    "\n",
    "x = var('x')\n",
    "ge_op = (x>=0).operator()\n",
    "gt_op = (x>0).operator()\n",
    "\n",
    "bound = 0\n",
    "\n",
    "# Find lower bound after which all equations are true\n",
    "\n",
    "for e in a:\n",
    "    s = solve(e(j=4*h), h)\n",
    "    assert len(s) > 0\n",
    "    if not isinstance(s[-1], list): continue # always true\n",
    "    assert s[-1][-1].operator() == ge_op or s[-1][-1].operator() == gt_op\n",
    "    bound = max(bound, s[-1][-1].rhs())\n",
    "\n",
    "print(\"True for h ≥\", math.ceil(bound))"
   ]
  },
  {
   "cell_type": "markdown",
   "metadata": {},
   "source": [
    "Show that setting $k=h$, $j=\\bigl\\lfloor\\frac{k^2-4k-15}2\\bigr\\rfloor$ and imposing that vertex 0 loses rank w.r.t. vertex 2, that vertex 0 is less important than vertex 1 (bottom violation), and that vertex 0 is demoted by one position, we get that these conditions hold for every $k\\geq 13$."
   ]
  },
  {
   "cell_type": "code",
   "execution_count": 7,
   "metadata": {},
   "outputs": [
    {
     "name": "stdout",
     "output_type": "stream",
     "text": [
      "True for k ≥ 13\n"
     ]
    }
   ],
   "source": [
    "jexp=(k^2-4*k-15)/2 # Works with -16, too, for even k\n",
    "hexp=k\n",
    "\n",
    "a = [\n",
    "    (pre[0]<pre[1])(j=jexp)(h=hexp),\n",
    "    (post[0]<post[1])(j=jexp)(h=hexp),\n",
    "    \n",
    "    # 0 loses 1 position\n",
    "    # Also: counterexample to rank monotonicity w.r.t. 2\n",
    "    (pre[0]>pre[2])(j=jexp)(h=hexp),\n",
    "    (post[0]<post[2])(j=jexp)(h=hexp),\n",
    "    \n",
    "    (pre[0]>pre[\"3_0\"])(j=jexp)(h=hexp),\n",
    "    (post[0]>post[\"3_0\"])(j=jexp)(h=hexp),\n",
    "\n",
    "    (pre[0]>pre[\"4_0\"])(j=jexp)(h=hexp),\n",
    "    (post[0]>post[\"4_0\"])(j=jexp)(h=hexp),\n",
    "\n",
    "    (pre[0]>pre[\"5_0\"])(j=jexp)(h=hexp),\n",
    "    (post[0]>post[\"5_0\"])(j=jexp)(h=hexp),\n",
    "\n",
    "    (pre[0]>pre[\"a\"])(j=jexp)(h=hexp),\n",
    "    (post[0]>post[\"a\"])(j=jexp)(h=hexp),\n",
    "\n",
    "    (pre[0]>pre[\"b\"])(j=jexp)(h=hexp),\n",
    "    (post[0]>post[\"b\"])(j=jexp)(h=hexp),\n",
    "\n",
    "    (pre[0]<pre[\"c\"])(j=jexp)(h=hexp),\n",
    "    (post[0]<post[\"c\"])(j=jexp)(h=hexp),\n",
    "    \n",
    "    (pre[0]<pre[\"d\"])(j=jexp)(h=hexp),     \n",
    "    (post[0]<post[\"d\"])(j=jexp)(h=hexp),\n",
    "    \n",
    "    # Counterexample to score monotonicity\n",
    "    (pre[0]==post[0])(j=jexp)(h=hexp),\n",
    "]\n",
    "\n",
    "# Maybe there's a better way, but I couldn't find it\n",
    "\n",
    "x = var('x')\n",
    "ge_op = (x>=0).operator()\n",
    "gt_op = (x>0).operator()\n",
    "\n",
    "bound = 0\n",
    "\n",
    "# Find lower bound after which all inequalities and equations are true\n",
    "\n",
    "for e in a:\n",
    "    s = solve(e,k)\n",
    "    assert len(s) > 0\n",
    "    if not isinstance(s[-1], list): continue # always true \n",
    "    assert s[-1][-1].operator() == ge_op or s[-1][-1].operator() == gt_op\n",
    "    bound = max(bound, s[-1][-1].rhs())\n",
    "\n",
    "print(\"True for k ≥\", math.ceil(bound))"
   ]
  },
  {
   "cell_type": "code",
   "execution_count": 8,
   "metadata": {},
   "outputs": [],
   "source": [
    "def printPassThrough(G, x):\n",
    "    \"\"\"\n",
    "    Conveniently prints the shortest paths between any unordered pair of vertices of G (distinct from x)\n",
    "    counting how many of them pass through x.\n",
    "    Vertices whose name is of the form \"x_y\" are printed only if \"y\" is 0, with the only exception\n",
    "    of the source/target pairs that have the form \"x_0\", \"x_1\" respectively.\n",
    "\n",
    "    \"\"\"\n",
    "    nodes = list(G.nodes())\n",
    "    sorted(nodes, key=lambda x: str(x))\n",
    "    n = len(nodes)\n",
    "    for i in range(n):\n",
    "        for j in range(i + 1, n):\n",
    "            source = str(nodes[i])\n",
    "            target = str(nodes[j])\n",
    "            if source == x or target == x:\n",
    "                continue\n",
    "            if \"_\" in source and not source.endswith(\"_0\"):\n",
    "                continue\n",
    "            if \"_\" in target and not target.endswith(\"_0\") and not target.endswith(\"_1\"):\n",
    "                continue\n",
    "            if target.endswith(\"_1\") and (\"_\" not in source or source[:1] != target[:1]):\n",
    "                continue\n",
    "            sps = list(nx.all_shortest_paths(G, nodes[i], nodes[j]))\n",
    "            spsx = [s for s in sps if x in s]\n",
    "            if len(spsx) > 0:\n",
    "                print(\"{:4} -> {:4} \\t {}/{} \\t{}\".format(source, target, len(spsx), len(sps), sps))"
   ]
  },
  {
   "cell_type": "code",
   "execution_count": 9,
   "metadata": {},
   "outputs": [
    {
     "name": "stdout",
     "output_type": "stream",
     "text": [
      "For instance, let us see the paths through d in H\n",
      "0    -> 4_0  \t 1/2 \t[[0, 'a', 'b', 'c', '4_0'], [0, 1, 2, 'd', '4_0']]\n",
      "1    -> c    \t 1/2 \t[[1, 2, 'd', 'c'], [1, 'a', 'b', 'c']]\n",
      "1    -> 4_0  \t 1/1 \t[[1, 2, 'd', '4_0']]\n",
      "2    -> b    \t 1/2 \t[[2, 1, 'a', 'b'], [2, 'd', 'c', 'b']]\n",
      "2    -> c    \t 1/1 \t[[2, 'd', 'c']]\n",
      "2    -> 4_0  \t 1/1 \t[[2, 'd', '4_0']]\n",
      "c    -> 5_0  \t 1/2 \t[['c', 'b', 'a', 1, '5_0'], ['c', 'd', 2, 1, '5_0']]\n",
      "4_0  -> 4_1  \t 1/2 \t[['4_0', 'c', '4_1'], ['4_0', 'd', '4_1']]\n",
      "4_0  -> 3_0  \t 1/2 \t[['4_0', 'c', 'b', 'a', 0, '3_0'], ['4_0', 'd', 2, 1, 0, '3_0']]\n",
      "4_0  -> 5_0  \t 1/1 \t[['4_0', 'd', 2, 1, '5_0']]\n"
     ]
    }
   ],
   "source": [
    "print(\"For instance, let us see the paths through d in H\")\n",
    "printPassThrough(H,\"d\")"
   ]
  }
 ],
 "metadata": {
  "kernelspec": {
   "display_name": "SageMath 9.5",
   "language": "sage",
   "name": "sagemath-9.5"
  },
  "language_info": {
   "codemirror_mode": {
    "name": "ipython",
    "version": 3
   },
   "file_extension": ".py",
   "mimetype": "text/x-python",
   "name": "python",
   "nbconvert_exporter": "python",
   "pygments_lexer": "ipython3",
   "version": "3.9.9"
  }
 },
 "nbformat": 4,
 "nbformat_minor": 4
}
