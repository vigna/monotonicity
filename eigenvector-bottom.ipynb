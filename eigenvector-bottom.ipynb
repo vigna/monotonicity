{
 "cells": [
  {
   "cell_type": "code",
   "execution_count": 6,
   "metadata": {},
   "outputs": [],
   "source": [
    "import networkx as nx"
   ]
  },
  {
   "cell_type": "markdown",
   "metadata": {},
   "source": [
    "# Eigenvector Centrality Bottom Counterexamples"
   ]
  },
  {
   "cell_type": "code",
   "execution_count": 7,
   "metadata": {},
   "outputs": [],
   "source": [
    "import scipy as sp\n",
    "import numpy as np"
   ]
  },
  {
   "cell_type": "code",
   "execution_count": 8,
   "metadata": {},
   "outputs": [],
   "source": [
    "# Values in Table 2\n",
    "\n",
    "kk = [8,9,10,11,12,14,15,16,17,18,19,24,26,27,28,29,30,31,32,34,35,36,37,38,40,43,44,45,48,50,51,56,57,59,61,62,63,64,65,66,66,68,69,70,72,73,74,75,76,77,78,80,82,84]\n",
    "ss = [40,53,67,83,101,142,165,190,217,246,276,456,541,586,633,682,733,786,840,955,1015,1077,1141,1207,1344,1564,1641,1720,1968,2143,2233,2713,2815,3024,3241,3352,3465,3580,3697,3816,3816,4059,4184,4310,4569,4701,4835,4971,5109,5249,5391,5680,5977,6282]"
   ]
  },
  {
   "cell_type": "code",
   "execution_count": null,
   "metadata": {},
   "outputs": [
    {
     "name": "stdout",
     "output_type": "stream",
     "text": [
      "8 40 OK\n",
      "9 53 OK\n",
      "10 67 OK\n",
      "11 83 OK\n"
     ]
    }
   ],
   "source": [
    "for i in range(len(kk)):\n",
    "    k = kk[i]\n",
    "    s = ss[i]\n",
    "    \n",
    "    # Graph in Figure 6\n",
    "    \n",
    "    G = nx.Graph()\n",
    "    G.add_nodes_from(range(4 + k + k + s))\n",
    "\n",
    "    # Three sides of the square\n",
    "    G.add_edge(1,2)\n",
    "    G.add_edge(2,3)\n",
    "    G.add_edge(3,0)\n",
    "\n",
    "    # Clique around 0: [4..4+k)\n",
    "    for x in range(4, 4 + k):\n",
    "        G.add_edge(0, x)\n",
    "        for y in range(x + 1, 4 + k):\n",
    "            G.add_edge(x, y)\n",
    "\n",
    "    # Clique around 2: [4+k..4+k+k)\n",
    "    for x in range(4 + k, 4 + k + k):\n",
    "        G.add_edge(2, x)\n",
    "        for y in range(x + 1, 4 + k + k):\n",
    "            G.add_edge(x, y)\n",
    "\n",
    "    # Star around 1: [4+k+k..4+k+k+s)\n",
    "    for x in range(4 + k + k, 4 + k + k + s):\n",
    "        G.add_edge(1, x)\n",
    "\n",
    "    eig_pre = nx.eigenvector_centrality(G, tol=1e-14, max_iter=100000000)\n",
    "    # Bottom violation\n",
    "    assert eig_pre[0] > eig_pre[1]\n",
    "    # 1 is more important than 4 before adding the edge 0-1\n",
    "    assert eig_pre[1] > eig_pre[4]\n",
    "    \n",
    "    G.add_edge(0, 1)\n",
    "\n",
    "    eig_post = nx.eigenvector_centrality(G, tol=1e-14, max_iter=100000000)\n",
    "    # 1 is less important than 4 before adding the edge 0-1\n",
    "    assert eig_post[1] < eig_post[4]\n",
    "    # The rank of 1 has decreased\n",
    "    assert sum([1 if eig_pre[x] > eig_pre[1] else 0 for x in eig_pre.keys()]) < sum([1 if eig_post[x] > eig_post[1] else 0 for x in eig_post.keys()])\n",
    "\n",
    "    print(k, s, \"OK\")\n"
   ]
  },
  {
   "cell_type": "code",
   "execution_count": null,
   "metadata": {},
   "outputs": [],
   "source": []
  }
 ],
 "metadata": {
  "kernelspec": {
   "display_name": "SageMath 9.5",
   "language": "sage",
   "name": "sagemath-9.5"
  },
  "language_info": {
   "codemirror_mode": {
    "name": "ipython",
    "version": 3
   },
   "file_extension": ".py",
   "mimetype": "text/x-python",
   "name": "python",
   "nbconvert_exporter": "python",
   "pygments_lexer": "ipython3",
   "version": "3.9.9"
  }
 },
 "nbformat": 4,
 "nbformat_minor": 4
}
