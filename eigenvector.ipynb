{
 "cells": [
  {
   "cell_type": "code",
   "execution_count": 1,
   "id": "7a97a261",
   "metadata": {},
   "outputs": [],
   "source": [
    "import numpy as np\n",
    "import math\n",
    "import matplotlib as plt\n",
    "import networkx as nx\n",
    "\n",
    "%matplotlib inline\n",
    "\n",
    "# Ring of polynomials for the weights of the base\n",
    "R.<k> = PolynomialRing(QQ)\n",
    "\n",
    "# Ring of polynomials in a whose coefficients are rational functions in k\n",
    "S.<a> = PolynomialRing(FractionField(R))\n",
    "\n",
    "def sturm(p):\n",
    "    \"\"\"\n",
    "        Computes the Sturm polynomials.\n",
    "        \n",
    "        Args:\n",
    "            p: a polynomial in a with rational coefficients in k.\n",
    "            \n",
    "        Returns:\n",
    "            the Sturm polynomials of p.\n",
    "    \"\"\"\n",
    "    S = []\n",
    "    if p == 0:\n",
    "        return S\n",
    "    S.append(p)\n",
    "    S.append(diff(p, a))\n",
    "    assert S[-2].gcd(S[-1]) == 1, S[-2].gcd(S[-1])\n",
    "    while True:\n",
    "        next_p = -S[-2].mod(S[-1])\n",
    "        if next_p == 0:\n",
    "            break\n",
    "        S.append(next_p)\n",
    "    return S\n",
    "\n",
    "# Maybe there's a better way, but I couldn't find it\n",
    "\n",
    "x = var('x')\n",
    "ge_op = (x>=0).operator()\n",
    "gt_op = (x>0).operator()\n",
    "lt_op = (x<0).operator()\n",
    "\n",
    "def changes(S, *points, power=1):\n",
    "    \"\"\"\n",
    "        Computes sign changes in the Sturm polynomials in a at given points.\n",
    "        \n",
    "        Args:\n",
    "            S: the Sturm polynomials of a polynomial in a.\n",
    "            points: the points at which sign changes must be computed.\n",
    "            power: replace k with x^power; by passing points expressed in\n",
    "                x, rather than in k, one can effectively compute sign\n",
    "                changes at points containing roots of k whose order is a \n",
    "                divisor of power.\n",
    "            \n",
    "        Returns:\n",
    "            a dictionary mapping each point to the number of sign changes and the first valid value k for such changes.\n",
    "    \"\"\"\n",
    "\n",
    "    changes={}\n",
    "    for point in points:\n",
    "        prev_op = None\n",
    "        c = 0\n",
    "        m = 0\n",
    "        for i in range(len(S)):\n",
    "            sol = solve(S[i](a=point)(k=x^power)>0,x)\n",
    "            op = '+'\n",
    "            if len(sol) > 0:\n",
    "                if isinstance(sol[-1], list):\n",
    "                    ineq = sol[-1][-1]\n",
    "                    assert ineq.lhs() == x\n",
    "                    if ineq.operator() != ge_op and ineq.operator() != gt_op:\n",
    "                        op = '-'\n",
    "                    m = max(m, ineq.rhs())\n",
    "                else:\n",
    "                    # Here we expect x < +Infinity\n",
    "                    assert sol[-1].operator() == lt_op and sol[-1].lhs() == x and sol[-1].rhs() == +Infinity\n",
    "            else:\n",
    "                # Everywhere negative\n",
    "                op = '-'\n",
    "            if i > 0 and op != prev_op:\n",
    "                c += 1\n",
    "            prev_op = op\n",
    "        \n",
    "        # Now we try to improve m manually\n",
    "            \n",
    "        for r in range(math.ceil(m) - 1, 0, -1):\n",
    "            prev_op = '0'\n",
    "            d = 0\n",
    "            for i in range(len(S)):\n",
    "                if S[i].denominator()(a=point)(k=r) == 0:\n",
    "                    d = -1\n",
    "                    break\n",
    "                v = S[i](a=point)(k=r)\n",
    "                if v == 0:\n",
    "                    op = '0'\n",
    "                elif v > 0:\n",
    "                    op = '+'\n",
    "                else:\n",
    "                    op = '-'\n",
    "                if op != prev_op and op != '0' and prev_op != '0':\n",
    "                    d += 1\n",
    "                prev_op = op\n",
    "                \n",
    "            if d == c:\n",
    "                m = m -1\n",
    "            else:\n",
    "                break\n",
    "        \n",
    "        changes[point] = [c, m^power]\n",
    "        \n",
    "    return changes \n",
    "\n",
    "\n",
    "def printChanges(changes, l, r):\n",
    "    \"\"\"\n",
    "        Prints (in an easy-to-read way) the number of changes of a function in a given interval (l..r].\n",
    "        \n",
    "        Args:\n",
    "            changes: the result of changes(S,l,r).\n",
    "            l: the left estreme passed to changes().\n",
    "            r: the right extreme passed to changes().\n",
    "    \"\"\"\n",
    "    bound = max(changes[l][1], changes[r][1])\n",
    "    print(\"Number of zeros for \" , l, \" < ⍺ ≤ \", r, \": \", changes[l][0] - changes[r][0], \" for k \", (\"> \" if math.ceil(bound) == bound else \"≥ \" ), math.ceil(bound), sep = \"\")\n",
    "\n",
    "\n",
    "def printLimits(*points):\n",
    "    \"\"\"\n",
    "        Prints (in an easy-to-read way) the limits at infinity of the arguments.\n",
    "    \"\"\"\n",
    "    for point in points:\n",
    "        print(point, \"→\", limit(point, k=infinity), \"for k → ∞\")\n",
    "\n",
    "\n",
    "def lower_bound(solve_res):\n",
    "    \"\"\"\n",
    "        Returns the very last inequality of a solve() result, given that is a lower bound\n",
    "        (an assertion will fail otherwise), rounding to the next integer.\n",
    "        \n",
    "        Args:\n",
    "            solve_res: the result of solve().\n",
    "            \n",
    "        Returns:\n",
    "            a string given by \"> C\" or \"≥ C\", where C is the lower bound.\n",
    "    \"\"\"\n",
    "    t = solve_res[-1][-1]\n",
    "    operator = t.operator()\n",
    "    operands = t.operands()\n",
    "    assert operator == gt_op or operator == ge_op\n",
    "    bound = math.ceil(operands[1])\n",
    "    if operator == gt_op and bound == operands[1]:\n",
    "        return \"≥ \" + str(bound + 1)\n",
    "    else:\n",
    "        return \"≥ \" + str(bound)\n"
   ]
  },
  {
   "cell_type": "markdown",
   "id": "954040f0",
   "metadata": {},
   "source": [
    "# Counterexample"
   ]
  },
  {
   "cell_type": "code",
   "execution_count": 2,
   "id": "9fc0b770",
   "metadata": {},
   "outputs": [],
   "source": [
    "# Rank monotonicity counterexample\n",
    "# Node names correspond to the labeling in the paper\n",
    "\n",
    "\n",
    "A_pre  = matrix(7, 7, [\n",
    "    0, 0, 0, 1, 1, 0, 0,\n",
    "    0, 0, 1, 0, 0, 1, 0,\n",
    "    0, 1, 0, 1, 0, 0, 1,\n",
    "    1, 0, 1, 0, 0, 0, 0,\n",
    "    k, 0, 0, 0, k-1, 0, 0,\n",
    "    0, (k-1)*(k-2), 0, 0, 0, 0, 0,\n",
    "    0, 0, k, 0, 0, 0, k-1\n",
    "])\n",
    "\n",
    "A_post  = matrix(7, 7, [\n",
    "    0, 1, 0, 1, 1, 0, 0,\n",
    "    1, 0, 1, 0, 0, 1, 0,\n",
    "    0, 1, 0, 1, 0, 0, 1,\n",
    "    1, 0, 1, 0, 0, 0, 0,\n",
    "    k, 0, 0, 0, k-1, 0, 0,\n",
    "    0, (k-1)*(k-2), 0, 0, 0, 0, 0,\n",
    "    0, 0, k, 0, 0, 0, k-1\n",
    "])\n",
    "\n",
    "# Column sums of the adjugate (AKA Katz's index multiplied by the determinant)\n",
    "\n",
    "r_pre = vector([1]*7) * (~(identity_matrix(7) - a * A_pre) * det(identity_matrix(7) - a * A_pre))\n",
    "r_post = vector([1]*7) * (~(identity_matrix(7) - a * A_post) * det(identity_matrix(7) - a * A_post))"
   ]
  },
  {
   "cell_type": "markdown",
   "id": "9eec3316",
   "metadata": {},
   "source": [
    "## Dominant  Eigenvalue Bounds"
   ]
  },
  {
   "cell_type": "markdown",
   "id": "165e87d7",
   "metadata": {},
   "source": [
    "The dominant eigenvalue of both matrices is sandwitched between $\\mathit{lower}=k+\\frac1{k^2}$ and $\\mathit{upper} = k + \\frac3{4k}$."
   ]
  },
  {
   "cell_type": "code",
   "execution_count": 3,
   "id": "96127b12",
   "metadata": {},
   "outputs": [
    {
     "name": "stdout",
     "output_type": "stream",
     "text": [
      "Pre:\n",
      "Number of zeros for (k^3 + 1)/k^2 < ⍺ ≤ (k^2 + 3/4)/k: 1 for k ≥ 4\n",
      "Number of zeros for (k^2 + 3/4)/k < ⍺ ≤ 2*k: 0 for k ≥ 4\n",
      "\n",
      "Post:\n",
      "Number of zeros for (k^3 + 1)/k^2 < ⍺ ≤ (k^2 + 3/4)/k: 1 for k ≥ 24\n",
      "Number of zeros for (k^2 + 3/4)/k < ⍺ ≤ 2*k: 0 for k ≥ 24\n"
     ]
    }
   ],
   "source": [
    "lower, upper = k + 1/(k*k), k+3/(4*k)\n",
    "print(\"Pre:\")\n",
    "charpoly = det(A_pre - a * identity_matrix(7))\n",
    "St = sturm(charpoly)\n",
    "l, r = lower, upper\n",
    "result = changes(St, l, r)\n",
    "printChanges(result, l, r)\n",
    "l, r = upper, 2*k\n",
    "result = changes(St, l, r)\n",
    "printChanges(result, l, r)\n",
    "\n",
    "print()\n",
    "\n",
    "print(\"Post:\")\n",
    "charpoly = det(A_post - a * identity_matrix(7))\n",
    "St = sturm(charpoly)\n",
    "l, r = lower, upper\n",
    "result = changes(St, l, r)\n",
    "printChanges(result, l, r)\n",
    "l, r = upper, 2*k\n",
    "result = changes(St, l, r)\n",
    "printChanges(result, l, r)\n",
    "\n",
    "# Determinants are positive\n",
    "\n",
    "det_pre = det(identity_matrix(7) - a * A_pre)\n",
    "det_post = det(identity_matrix(7) - a * A_post)\n",
    "\n",
    "unused = lower_bound(solve(det_pre(a=1/upper)(k=x)>0, x))\n",
    "unused = lower_bound(solve(det_post(a=1/upper)(k=x)>0, x))"
   ]
  },
  {
   "cell_type": "markdown",
   "id": "1d62707c",
   "metadata": {},
   "source": [
    "## Score Comparison"
   ]
  },
  {
   "cell_type": "markdown",
   "id": "aa1348fa",
   "metadata": {},
   "source": [
    "Node 1 is more important than node 0 when $\\alpha = \\frac1{\\mathit{upper}}$ (top violation)."
   ]
  },
  {
   "cell_type": "code",
   "execution_count": 4,
   "id": "4ad90ee6",
   "metadata": {},
   "outputs": [
    {
     "name": "stdout",
     "output_type": "stream",
     "text": [
      "Node 0 is more important than node 1 when ⍺ = 2/3 for k ≥ 54\n"
     ]
    }
   ],
   "source": [
    "p = S(r_pre[1] - r_pre[0])\n",
    "\n",
    "print(\"Node 0 is more important than node 1 when ⍺ = 2/3 for k\", lower_bound(solve(p(a=1/upper)(k=x)>0, x)))"
   ]
  },
  {
   "cell_type": "markdown",
   "id": "247bd695",
   "metadata": {},
   "source": [
    "It is also more important when $\\frac1{\\mathit{upper}}<\\alpha\\leq \\frac1{\\mathit{lower}}$, which is an interval including $\\frac1\\rho$."
   ]
  },
  {
   "cell_type": "code",
   "execution_count": 5,
   "id": "223aea93",
   "metadata": {},
   "outputs": [
    {
     "name": "stdout",
     "output_type": "stream",
     "text": [
      "Number of zeros for k/(k^2 + 3/4) < ⍺ ≤ k^2/(k^3 + 1): 0 for k ≥ 54\n"
     ]
    }
   ],
   "source": [
    "St = sturm(p)\n",
    "\n",
    "l, r = 1/upper, 1/lower\n",
    "\n",
    "printChanges(changes(St, l, r, power=2), l, r)"
   ]
  },
  {
   "cell_type": "markdown",
   "id": "696bdccd",
   "metadata": {},
   "source": [
    "## Rank Counterexample"
   ]
  },
  {
   "cell_type": "markdown",
   "id": "81ee7008",
   "metadata": {},
   "source": [
    "### PRE"
   ]
  },
  {
   "cell_type": "markdown",
   "id": "88fd04ca",
   "metadata": {},
   "source": [
    "Note 1 is more important than node 4 when $\\alpha = \\frac1{\\mathit{upper}}$."
   ]
  },
  {
   "cell_type": "code",
   "execution_count": 6,
   "id": "5cd93b57",
   "metadata": {},
   "outputs": [
    {
     "name": "stdout",
     "output_type": "stream",
     "text": [
      "Node 1 is more important than node 4 when ⍺ = 1/upper for k ≥ 53\n"
     ]
    }
   ],
   "source": [
    "p = S(r_pre[1] - r_pre[4])\n",
    "\n",
    "print(\"Node 1 is more important than node 4 when ⍺ = 1/upper for k\", lower_bound(solve(p(a=1/upper)(k=x)>0,x)))"
   ]
  },
  {
   "cell_type": "markdown",
   "id": "9f9259f2",
   "metadata": {},
   "source": [
    "It is also more important when $\\frac1{\\mathit{upper}}<\\alpha\\leq \\frac1{\\mathit{lower}}$, which is an interval including $\\frac1\\rho$."
   ]
  },
  {
   "cell_type": "code",
   "execution_count": 7,
   "id": "e239faea",
   "metadata": {},
   "outputs": [
    {
     "name": "stdout",
     "output_type": "stream",
     "text": [
      "Number of zeros for k/(k^2 + 3/4) < ⍺ ≤ k^2/(k^3 + 1): 0 for k ≥ 53\n"
     ]
    }
   ],
   "source": [
    "St = sturm(p)\n",
    "\n",
    "l, r = 1/upper, 1/lower\n",
    "\n",
    "printChanges(changes(St, l, r), l, r)"
   ]
  },
  {
   "cell_type": "markdown",
   "id": "dc5d7452",
   "metadata": {},
   "source": [
    "### POST\n"
   ]
  },
  {
   "cell_type": "markdown",
   "id": "0375529f",
   "metadata": {},
   "source": [
    "Node 1 is less important than node 4 when $\\alpha = \\frac1{\\mathit{upper}}$."
   ]
  },
  {
   "cell_type": "code",
   "execution_count": 8,
   "id": "675cfaca",
   "metadata": {
    "scrolled": false
   },
   "outputs": [
    {
     "name": "stdout",
     "output_type": "stream",
     "text": [
      "Node 1 is less important than node 4 when ⍺ = 1/upper for k ≥ 3\n"
     ]
    }
   ],
   "source": [
    "p = S(r_post[4] - r_post[1])\n",
    "\n",
    "print(\"Node 1 is less important than node 4 when ⍺ = 1/upper for k\", lower_bound(solve(p(a=1/upper)(k=x)>0,x)))"
   ]
  },
  {
   "cell_type": "markdown",
   "id": "b10b7d55",
   "metadata": {},
   "source": [
    "It is also less important when $\\frac1{\\mathit{upper}}<\\alpha\\leq \\frac1{\\mathit{lower}}$, which is an interval including $\\frac1\\rho$."
   ]
  },
  {
   "cell_type": "code",
   "execution_count": 9,
   "id": "12d6da08",
   "metadata": {},
   "outputs": [
    {
     "name": "stdout",
     "output_type": "stream",
     "text": [
      "Number of zeros for k/(k^2 + 3/4) < ⍺ ≤ k^2/(k^3 + 1): 0 for k ≥ 1\n"
     ]
    }
   ],
   "source": [
    "St = sturm(p)\n",
    "\n",
    "l, r = 1/upper, 1/lower\n",
    "\n",
    "printChanges(changes(St, l, r), l, r)"
   ]
  },
  {
   "cell_type": "markdown",
   "id": "f8bec1ff",
   "metadata": {},
   "source": [
    "# Statements Outside Interval of Validity"
   ]
  },
  {
   "cell_type": "markdown",
   "id": "6e8fc6fb",
   "metadata": {},
   "source": [
    "## Score Comparison"
   ]
  },
  {
   "cell_type": "code",
   "execution_count": 10,
   "id": "9be65a39",
   "metadata": {},
   "outputs": [
    {
     "name": "stdout",
     "output_type": "stream",
     "text": [
      "Number of zeros for 0 < ⍺ ≤ k/(k^2 + 2): 1 for k ≥ 16\n",
      "Number of zeros for k/(k^2 + 2) < ⍺ ≤ k/(k^2 + 1): 1 for k ≥ 16\n",
      "Number of zeros for k/(k^2 + 1) < ⍺ ≤ k/(k^2 + 3/4): 1 for k ≥ 54\n"
     ]
    }
   ],
   "source": [
    "p = S(r_pre[1] - r_pre[0])\n",
    "\n",
    "St = sturm(p)\n",
    "\n",
    "l, r = 0, 1/(k+2/k)\n",
    "printChanges(changes(St, l, r), l, r)\n",
    "\n",
    "l, r = 1/(k+2/k), 1/(k+1/k)\n",
    "printChanges(changes(St, l, r), l, r)\n",
    "\n",
    "l, r = 1/(k+1/k), 1/upper\n",
    "printChanges(changes(St, l, r), l, r)"
   ]
  },
  {
   "cell_type": "markdown",
   "id": "c4977b45",
   "metadata": {},
   "source": [
    "## Rank Counterexample"
   ]
  },
  {
   "cell_type": "markdown",
   "id": "e1e996f7",
   "metadata": {},
   "source": [
    "### PRE"
   ]
  },
  {
   "cell_type": "code",
   "execution_count": 11,
   "id": "c163f734",
   "metadata": {},
   "outputs": [
    {
     "name": "stdout",
     "output_type": "stream",
     "text": [
      "Number of zeros for 0 < ⍺ ≤ k/(k^2 + 2): 1 for k ≥ 15\n",
      "Number of zeros for k/(k^2 + 2) < ⍺ ≤ k/(k^2 + 1): 1 for k ≥ 15\n",
      "Number of zeros for k/(k^2 + 1) < ⍺ ≤ k/(k^2 + 3/4): 1 for k ≥ 53\n"
     ]
    }
   ],
   "source": [
    "p = S(r_pre[1] - r_pre[4])\n",
    "\n",
    "St = sturm(p)\n",
    "\n",
    "l, r = 0, 1/(k+2/k)\n",
    "printChanges(changes(St, l, r), l, r)\n",
    "\n",
    "l, r = 1/(k+2/k), 1/(k+1/k)\n",
    "printChanges(changes(St, l, r), l, r)\n",
    "\n",
    "l, r = 1/(k+1/k), 1/upper\n",
    "printChanges(changes(St, l, r), l, r)"
   ]
  },
  {
   "cell_type": "markdown",
   "id": "eb939e1e",
   "metadata": {},
   "source": [
    "### POST\n"
   ]
  },
  {
   "cell_type": "code",
   "execution_count": 12,
   "id": "d6b9aa2b",
   "metadata": {
    "scrolled": false
   },
   "outputs": [
    {
     "name": "stdout",
     "output_type": "stream",
     "text": [
      "Number of zeros for 0 < ⍺ ≤ k/(k^2 + 2): 1 for k ≥ 4\n",
      "Number of zeros for k/(k^2 + 2) < ⍺ ≤ k/(k^2 + 1): 0 for k ≥ 4\n",
      "Number of zeros for k/(k^2 + 1) < ⍺ ≤ k/(k^2 + 3/4): 0 for k ≥ 1\n"
     ]
    }
   ],
   "source": [
    "p = S(r_post[4] - r_post[1])\n",
    "\n",
    "St = sturm(p)\n",
    "\n",
    "l, r = 0, 1/(k+2/k)\n",
    "printChanges(changes(St, l, r), l, r)\n",
    "\n",
    "l, r = 1/(k+2/k), 1/(k+1/k)\n",
    "printChanges(changes(St, l, r), l, r)\n",
    "\n",
    "l, r = 1/(k+1/k), 1/upper\n",
    "printChanges(changes(St, l, r), l, r)"
   ]
  },
  {
   "cell_type": "markdown",
   "id": "db901748",
   "metadata": {},
   "source": [
    "## Demotion when $\\frac1{k+\\frac2k}\\leq\\alpha\\leq \\frac1{\\mathit{lower}}$"
   ]
  },
  {
   "cell_type": "markdown",
   "id": "ae4a6c0e",
   "metadata": {},
   "source": [
    "Not counting node 0 and node 4, there are two nodes more important than node 1 before adding the edge when $\\alpha=\\frac1{k+\\frac2k}$."
   ]
  },
  {
   "cell_type": "code",
   "execution_count": 13,
   "id": "3612a6ae",
   "metadata": {},
   "outputs": [
    {
     "name": "stdout",
     "output_type": "stream",
     "text": [
      "Node 2 is ultimately more important than node 1 for k ≥ 1\n",
      "Node 3 is ultimately not more important than node 1\n",
      "Node 5 is ultimately not more important than node 1\n",
      "Node 6 is ultimately more important than node 1 for k ≥ 2\n"
     ]
    }
   ],
   "source": [
    "for i in range(7):\n",
    "    if i == 0 or i == 1 or i == 4:\n",
    "        continue\n",
    "    p = S(r_pre[i] - r_pre[1])\n",
    "    if p == 0:\n",
    "        print(\"Node\", i, \"has the same score of node 1\")\n",
    "    else:\n",
    "        try:\n",
    "            kmin = lower_bound(solve(p(a=1/(k+2/k))(k=x)>0,x))\n",
    "            print(\"Node\", i, \"is ultimately more important than node 1 for k\", kmin)\n",
    "        except:\n",
    "            print(\"Node\", i, \"is ultimately not more important than node 1\")"
   ]
  },
  {
   "cell_type": "markdown",
   "id": "eb8bf207",
   "metadata": {},
   "source": [
    "Not counting node 0 and node 4, there are two nodes more important than node 1 also when $\\frac1{k+\\frac2k}<\\alpha\\leq \\frac1{\\mathit{lower}}$, which is an interval including $\\frac1\\rho$."
   ]
  },
  {
   "cell_type": "code",
   "execution_count": 14,
   "id": "8e9484f5",
   "metadata": {},
   "outputs": [
    {
     "name": "stdout",
     "output_type": "stream",
     "text": [
      "Number of zeros for k/(k^2 + 2) < ⍺ ≤ k^2/(k^3 + 1): 0 for k ≥ 4\n",
      "Number of zeros for k/(k^2 + 2) < ⍺ ≤ k^2/(k^3 + 1): 0 for k ≥ 15\n",
      "Number of zeros for k/(k^2 + 2) < ⍺ ≤ k^2/(k^3 + 1): 0 for k ≥ 3\n",
      "Number of zeros for k/(k^2 + 2) < ⍺ ≤ k^2/(k^3 + 1): 0 for k ≥ 3\n"
     ]
    }
   ],
   "source": [
    "l, r = 1/(k+2/k), 1/lower\n",
    "\n",
    "for i in range(7):\n",
    "    if i == 0 or i == 1 or i == 4:\n",
    "        continue\n",
    "    p = S(r_pre[1] - r_pre[i])\n",
    "    St = sturm(p)\n",
    "    printChanges(changes(St, l, r), l, r)\n"
   ]
  },
  {
   "cell_type": "markdown",
   "id": "c75bf11e",
   "metadata": {},
   "source": [
    "There are four nodes more important than node 1 after adding the edge when $\\alpha=\\frac1{k+\\frac2k}$."
   ]
  },
  {
   "cell_type": "code",
   "execution_count": 15,
   "id": "20d02513",
   "metadata": {},
   "outputs": [
    {
     "name": "stdout",
     "output_type": "stream",
     "text": [
      "Node 0 is ultimately more important than node 1 for k  ≥ 1\n",
      "Node 2 is ultimately more important than node 1 for k  ≥ 1\n",
      "Node 3 is ultimately not more important than node 1\n",
      "Node 4 is ultimately more important than node 1 for k  ≥ 4\n",
      "Node 5 is ultimately not more important than node 1\n",
      "Node 6 is ultimately more important than node 1 for k  ≥ 4\n"
     ]
    }
   ],
   "source": [
    "for i in range(7):\n",
    "    if i == 1:\n",
    "        continue\n",
    "    p = S(r_post[i] - r_post[1])\n",
    "    if p == 0:\n",
    "        print(\"Node\", i, \"has the same score of node 1\")\n",
    "    else:\n",
    "        try:\n",
    "            kmin = lower_bound(solve(p(a=1/(k+2/k))(k=x)>0,x))\n",
    "            print(\"Node\", i, \"is ultimately more important than node 1 for k \", kmin)\n",
    "        except:\n",
    "            print(\"Node\", i, \"is ultimately not more important than node 1\")"
   ]
  },
  {
   "cell_type": "markdown",
   "id": "7ff2fe05",
   "metadata": {},
   "source": [
    "There are four nodes more important than node 1 also when $\\frac1{k+\\frac2k}<\\alpha\\leq \\frac1{\\mathit{lower}}$, which is an interval including $\\frac1\\rho$."
   ]
  },
  {
   "cell_type": "code",
   "execution_count": 16,
   "id": "4b3076ca",
   "metadata": {
    "scrolled": true
   },
   "outputs": [
    {
     "name": "stdout",
     "output_type": "stream",
     "text": [
      "Number of zeros for k/(k^2 + 2) < ⍺ ≤ k^2/(k^3 + 1): 0 for k ≥ 4\n",
      "Number of zeros for k/(k^2 + 2) < ⍺ ≤ k^2/(k^3 + 1): 0 for k ≥ 4\n",
      "Number of zeros for k/(k^2 + 2) < ⍺ ≤ k^2/(k^3 + 1): 0 for k ≥ 3\n",
      "Number of zeros for k/(k^2 + 2) < ⍺ ≤ k^2/(k^3 + 1): 0 for k ≥ 4\n",
      "Number of zeros for k/(k^2 + 2) < ⍺ ≤ k^2/(k^3 + 1): 0 for k ≥ 3\n",
      "Number of zeros for k/(k^2 + 2) < ⍺ ≤ k^2/(k^3 + 1): 0 for k ≥ 4\n"
     ]
    }
   ],
   "source": [
    "l, r = 1/(k+2/k), 1/lower\n",
    "\n",
    "for i in range(7):\n",
    "    if i == 1:\n",
    "        continue\n",
    "    p = S(r_post[i] - r_post[1])\n",
    "    St = sturm(p)\n",
    "    printChanges(changes(St, l, r), l, r)\n"
   ]
  },
  {
   "cell_type": "markdown",
   "id": "d3d6367b",
   "metadata": {},
   "source": [
    "## Existence of Further Regions (Top and Bottom Violations)"
   ]
  },
  {
   "cell_type": "markdown",
   "id": "3870ceb7",
   "metadata": {},
   "source": [
    "When $\\frac1{k + \\frac2k}<\\alpha\\leq \\frac1{\\mathit{upper}}$ in the original graph the relative importance of node 0 and node 1 flips twice, as well as the relative importance of node 1 and node 4. First we have the first flip of importance of node 0 and node 1, then the first flip of importance of node 1 and node 4, then the second flip of importance of node 1 and node 4, and finally the second flip of importance of node 0 and node 1."
   ]
  },
  {
   "cell_type": "code",
   "execution_count": 17,
   "id": "d8cf20c3",
   "metadata": {},
   "outputs": [
    {
     "name": "stdout",
     "output_type": "stream",
     "text": [
      "The score delta between node 1 and node 4 dominates the score delta between node 1 and node 0 when ⍺ = 1/(k+2/k) for k ≥ 1\n",
      "Number of zeros for k/(k^2 + 2) < ⍺ ≤ k/(k^2 + 3/4): 0 for k ≥ 5\n"
     ]
    }
   ],
   "source": [
    "p = S((r_pre[1] - r_pre[4]) - (r_pre[1] - r_pre[0]))\n",
    "\n",
    "print(\"The score delta between node 1 and node 4 dominates the score delta between node 1 and node 0 when ⍺ = 1/(k+2/k) for k\", lower_bound(solve(p(a=1/(k+1/k))(k=x)>0,x)))\n",
    "\n",
    "St = sturm(p)\n",
    "\n",
    "l, r = 1/(k+2/k), 1/upper\n",
    "\n",
    "printChanges(changes(St, l, r), l, r)"
   ]
  },
  {
   "cell_type": "markdown",
   "id": "8ef383e2",
   "metadata": {},
   "source": [
    "# NetworkX Graphs"
   ]
  },
  {
   "cell_type": "code",
   "execution_count": 18,
   "id": "78ddbfbb",
   "metadata": {},
   "outputs": [],
   "source": [
    "def getGH(kk):\n",
    "    \"\"\"\n",
    "        Returns the networkx graphs of $G_k$ and $G_k'$.\n",
    "        \n",
    "        Args:\n",
    "            the value of k\n",
    "            \n",
    "        Returns:\n",
    "            the graph $G_k$, the graph $G_k'$ and a dictionary whose keys are the nodes of the graph and whose values\n",
    "            are the node names suitable to be passed to the draw function.\n",
    "    \"\"\"\n",
    "    labels={}\n",
    "    G=nx.Graph()\n",
    "    G.add_nodes_from([0,1])\n",
    "    for i in range(4):\n",
    "        labels[i]=i\n",
    "    G.add_nodes_from([0, 1, 2, 3])\n",
    "    G.add_edges_from([(0,3), (3,2), (2,1)])\n",
    "    for i in range(kk):\n",
    "        labels[\"4_{}\".format(i)]=4\n",
    "        labels[\"6_{}\".format(i)]=6\n",
    "        G.add_edge(\"4_{}\".format(i),0)\n",
    "        G.add_edge(\"6_{}\".format(i),2)            \n",
    "        for j in range(i+1, kk):\n",
    "            G.add_edge(\"4_{}\".format(i),\"4_{}\".format(j))\n",
    "            G.add_edge(\"6_{}\".format(i),\"6_{}\".format(j))\n",
    "    for i in range((kk-1)*(kk-2)):\n",
    "        labels[\"5_{}\".format(i)]=5\n",
    "        G.add_edge(\"5_{}\".format(i),1)\n",
    "    H=G.copy()\n",
    "    H.add_edge(0,1,color='r')\n",
    "    return G, H, labels"
   ]
  },
  {
   "cell_type": "code",
   "execution_count": 19,
   "id": "8a2405dc",
   "metadata": {},
   "outputs": [
    {
     "data": {
      "image/png": "[encoded data removed]",
      "text/plain": [
       "<Figure size 432x288 with 1 Axes>"
      ]
     },
     "metadata": {},
     "output_type": "display_data"
    }
   ],
   "source": [
    "G,H,labels=getGH(6)\n",
    "nx.draw(H, nx.kamada_kawai_layout(H), with_labels=True, labels=labels, node_color=[\"red\"]*2+[\"lightblue\"]*(len(H)-2))"
   ]
  },
  {
   "cell_type": "markdown",
   "id": "134593f2",
   "metadata": {},
   "source": [
    "Let's try to compute explicitly Katz's index for given values of $k$ and $\\alpha$."
   ]
  },
  {
   "cell_type": "code",
   "execution_count": 20,
   "id": "81081a17",
   "metadata": {},
   "outputs": [
    {
     "name": "stdout",
     "output_type": "stream",
     "text": [
      "0\t40.0032\t79.9977\n",
      "1\t34.4668\t66.5525\n",
      "2\t58.6338\t79.9977\n",
      "3\t12.9560\t20.3934\n",
      "4_0\t38.6025\t70.5981\n",
      "5_0\t5.1778\t9.0670\n",
      "6_0\t53.5070\t70.5981\n"
     ]
    }
   ],
   "source": [
    "kk=8\n",
    "aa=1/(kk+2/kk)+0.0\n",
    "G,H,labels=getGH(kk)\n",
    "c=nx.katz_centrality(G, alpha=aa, normalized=False)\n",
    "cp=nx.katz_centrality(H, alpha=aa, normalized=False)\n",
    "for xx in [0,1,2,3,\"4_0\",\"5_0\",\"6_0\"]:\n",
    "    print(\"{}\\t{:.4f}\\t{:.4f}\".format(xx, c[xx], cp[xx]))"
   ]
  },
  {
   "cell_type": "markdown",
   "id": "ceef81b8",
   "metadata": {},
   "source": [
    "Check that this is equivalent to its symbolic counterpart."
   ]
  },
  {
   "cell_type": "code",
   "execution_count": 21,
   "id": "468e1171",
   "metadata": {},
   "outputs": [
    {
     "name": "stdout",
     "output_type": "stream",
     "text": [
      "Determinant pre: 0.000313\n",
      "Determinant post: 0.000233\n",
      "0\t40.0033\t79.9978\n",
      "1\t34.4669\t66.5526\n",
      "2\t58.6340\t79.9978\n",
      "3\t12.9560\t20.3934\n",
      "4\t38.6026\t70.5983\n",
      "5\t5.1778\t9.0670\n",
      "6\t53.5072\t70.5983\n"
     ]
    }
   ],
   "source": [
    "d=det_pre(a=aa)(k=kk)\n",
    "dp=det_post(a=aa)(k=kk)\n",
    "c=r_pre(a=aa)(k=kk).numpy(float)\n",
    "cp=r_post(a=aa)(k=kk).numpy(float)\n",
    "print(\"Determinant pre: {:.6f}\\nDeterminant post: {:.6f}\".format(d,dp))\n",
    "for xx in range(7):\n",
    "    print(\"{}\\t{:.4f}\\t{:.4f}\".format(xx, c[xx]/d, cp[xx]/dp))"
   ]
  },
  {
   "cell_type": "markdown",
   "id": "ea2da2b7",
   "metadata": {},
   "source": [
    "# Numerical Examples"
   ]
  },
  {
   "cell_type": "markdown",
   "id": "1d27fdae",
   "metadata": {},
   "source": [
    "An example of bottom violation."
   ]
  },
  {
   "cell_type": "code",
   "execution_count": 22,
   "id": "0ba7dc43",
   "metadata": {},
   "outputs": [
    {
     "name": "stdout",
     "output_type": "stream",
     "text": [
      "0\t5102.2398538231\t77021.3036440674\n",
      "1\t5102.1913583795\t52659.1978952903\n",
      "4\t5097.6124264098\t76116.1306403241\n"
     ]
    }
   ],
   "source": [
    "kk=60\n",
    "aa=1/(kk+3/(4*kk))-0.0000000501\n",
    "c=(r_pre/det_pre)(a=aa)(k=kk).numpy(float)\n",
    "cp=(r_post/det_post)(a=aa)(k=kk).numpy(float)\n",
    "for xx in [0,1,4]:\n",
    "    print(\"{}\\t{:.10f}\\t{:.10f}\".format(xx, c[xx], cp[xx]))"
   ]
  },
  {
   "cell_type": "markdown",
   "id": "1e7079bf",
   "metadata": {},
   "source": [
    "An example with $\\alpha=\\frac1{k+\\frac2k}$."
   ]
  },
  {
   "cell_type": "code",
   "execution_count": 23,
   "id": "005b4117",
   "metadata": {},
   "outputs": [
    {
     "name": "stdout",
     "output_type": "stream",
     "text": [
      "0\t1841.7374438945\t3680.3539898623\n",
      "1\t2109.4696802355\t3576.4941187448\n",
      "4\t1840.4233328011\t3619.7296676087\n"
     ]
    }
   ],
   "source": [
    "kk=60\n",
    "aa=1/(kk+2/kk)\n",
    "c=(r_pre/det_pre)(a=aa)(k=kk).numpy(float)\n",
    "cp=(r_post/det_post)(a=aa)(k=kk).numpy(float)\n",
    "for xx in [0,1,4]:\n",
    "    print(\"{}\\t{:.10f}\\t{:.10f}\".format(xx, c[xx], cp[xx]))"
   ]
  },
  {
   "cell_type": "markdown",
   "id": "cb286a67",
   "metadata": {},
   "source": [
    "An example of bottom violation in the second interval."
   ]
  },
  {
   "cell_type": "code",
   "execution_count": 24,
   "id": "48a07319",
   "metadata": {},
   "outputs": [
    {
     "name": "stdout",
     "output_type": "stream",
     "text": [
      "0\t2735.5160018426\t7205.8123977632\n",
      "1\t2735.3111274033\t5942.8366701831\n",
      "4\t2733.4541516263\t7104.4740722792\n"
     ]
    }
   ],
   "source": [
    "kk=60\n",
    "aa=0.01666036\n",
    "c=(r_pre/det_pre)(a=aa)(k=kk).numpy(float)\n",
    "cp=(r_post/det_post)(a=aa)(k=kk).numpy(float)\n",
    "for xx in [0,1,4]:\n",
    "    print(\"{}\\t{:.10f}\\t{:.10f}\".format(xx, c[xx], cp[xx]))\n"
   ]
  },
  {
   "cell_type": "markdown",
   "id": "51f83c46",
   "metadata": {},
   "source": [
    "An example of top violation in the second interval."
   ]
  },
  {
   "cell_type": "code",
   "execution_count": 25,
   "id": "c2349f56",
   "metadata": {},
   "outputs": [
    {
     "name": "stdout",
     "output_type": "stream",
     "text": [
      "0\t2665.1459002332\t6849.3992789968\n",
      "1\t2681.9481630747\t5703.9638399318\n",
      "4\t2663.1472235742\t6752.1710135383\n"
     ]
    }
   ],
   "source": [
    "kk=60\n",
    "aa=0.0166602\n",
    "c=(r_pre/det_pre)(a=aa)(k=kk).numpy(float)\n",
    "cp=(r_post/det_post)(a=aa)(k=kk).numpy(float)\n",
    "for xx in [0,1,4]:\n",
    "    print(\"{}\\t{:.10f}\\t{:.10f}\".format(xx, c[xx], cp[xx]))\n"
   ]
  },
  {
   "cell_type": "markdown",
   "id": "da6404a0",
   "metadata": {},
   "source": [
    "# Graphics"
   ]
  },
  {
   "cell_type": "markdown",
   "id": "ca124ec5",
   "metadata": {},
   "source": [
    "Behavior of the relative importance of nodes 0, 1 and 4 in the whole interval $0\\leq\\alpha<\\frac1{\\rho_k'}$."
   ]
  },
  {
   "cell_type": "code",
   "execution_count": 26,
   "id": "00d2fd94",
   "metadata": {},
   "outputs": [
    {
     "data": {
      "image/png": "[encoded data removed]",
      "text/plain": [
       "<Figure size 1008x576 with 1 Axes>"
      ]
     },
     "metadata": {
      "needs_background": "light"
     },
     "output_type": "display_data"
    }
   ],
   "source": [
    "kk=54\n",
    "rhop = max(np.linalg.eig(A_post(k=kk))[0])\n",
    "xx = np.linspace(0, (1/rhop)*1.00001, 100)\n",
    "yy = [r_pre[1](k=kk)(a=x) - r_pre[4](k=kk)(a=x) for x in xx]\n",
    "zz = [r_post[1](k=kk)(a=x) - r_post[4](k=kk)(a=x) for x in xx]\n",
    "tt = [r_pre[1](k=kk)(a=x) - r_pre[0](k=kk)(a=x) for x in xx]\n",
    "fig = plt.pyplot.figure(figsize=(14,8))\n",
    "plt.pyplot.plot(xx, yy, color = \"blue\", label = \"pre(1)-pre(4)\")\n",
    "plt.pyplot.plot(xx, zz, color = \"red\", label = \"post(1)-post(4)\")\n",
    "plt.pyplot.plot(xx, tt, color = \"green\", label = \"pre(1)-pre(0)\")\n",
    "plt.pyplot.plot(xx, [0]*len(xx))\n",
    "plt.pyplot.axvline(x = 1/rhop, color = \"black\")\n",
    "fig.legend(loc = \"upper left\")\n",
    "fig.show()"
   ]
  },
  {
   "cell_type": "markdown",
   "id": "d38aea9d",
   "metadata": {},
   "source": [
    "Behavior of the relative importance of nodes 0, 1 and 4 in the interval $\\frac1{k+\\frac2k}\\leq\\alpha<\\frac1{\\rho_k'}$."
   ]
  },
  {
   "cell_type": "code",
   "execution_count": 27,
   "id": "c5862d5e",
   "metadata": {},
   "outputs": [
    {
     "data": {
      "image/png": "[encoded data removed]",
      "text/plain": [
       "<Figure size 1008x576 with 1 Axes>"
      ]
     },
     "metadata": {
      "needs_background": "light"
     },
     "output_type": "display_data"
    }
   ],
   "source": [
    "kk=54\n",
    "rho = max(np.linalg.eig(A_pre(k=kk))[0])\n",
    "rhop = max(np.linalg.eig(A_post(k=kk))[0])\n",
    "\n",
    "xx = np.linspace(1/(kk+2.1/kk), (1/rho)*1.00001, 100)\n",
    "yy = [r_pre[1](k=kk)(a=x) - r_pre[4](k=kk)(a=x) for x in xx]\n",
    "zz = [r_post[1](k=kk)(a=x) - r_post[4](k=kk)(a=x) for x in xx]\n",
    "tt = [r_pre[1](k=kk)(a=x) - r_pre[0](k=kk)(a=x) for x in xx]\n",
    "fig = plt.pyplot.figure(figsize=(14,8))\n",
    "plt.pyplot.plot(xx, yy, color = \"blue\", label = \"pre(1)-pre(4)\")\n",
    "plt.pyplot.plot(xx, zz, color = \"red\", label = \"post(1)-post(4)\")\n",
    "plt.pyplot.plot(xx, tt, color = \"green\", label = \"pre(1)-pre(0)\")\n",
    "plt.pyplot.plot(xx, [0]*len(xx))\n",
    "plt.pyplot.axvline(x = 1/rho, color = \"blue\")\n",
    "plt.pyplot.axvline(x = 1/rhop, color = \"black\")\n",
    "plt.pyplot.axvline(x = 1/(kk+2/kk), color = \"yellow\")\n",
    "fig.legend(loc = \"upper left\")\n",
    "fig.show()"
   ]
  },
  {
   "cell_type": "markdown",
   "id": "5211ee6e",
   "metadata": {},
   "source": [
    "Behavior of the relative importance of nodes 0, 1 and 4 in the interval where the importance flips happen."
   ]
  },
  {
   "cell_type": "code",
   "execution_count": 28,
   "id": "30ccdd48",
   "metadata": {},
   "outputs": [
    {
     "data": {
      "image/png": "[encoded data removed]",
      "text/plain": [
       "<Figure size 1008x576 with 1 Axes>"
      ]
     },
     "metadata": {
      "needs_background": "light"
     },
     "output_type": "display_data"
    }
   ],
   "source": [
    "kk=54\n",
    "rhop = max(np.linalg.eig(A_post(k=kk))[0])\n",
    "xx = np.linspace(.99975/rhop, (1/rhop), 100)\n",
    "yy = [r_pre[1](k=kk)(a=x) - r_pre[4](k=kk)(a=x) for x in xx]\n",
    "tt = [r_pre[1](k=kk)(a=x) - r_pre[0](k=kk)(a=x) for x in xx]\n",
    "fig = plt.pyplot.figure(figsize=(14,8))\n",
    "plt.pyplot.plot(xx, yy, color = \"blue\", label = \"pre[1] - pre[4]\")\n",
    "plt.pyplot.plot(xx, tt, color = \"green\", label = \"pre[1] - pre[0]\")\n",
    "plt.pyplot.plot(xx, [0]*len(xx))\n",
    "plt.pyplot.axvline(x = 1/rhop, color = \"black\")\n",
    "fig.legend(loc = \"upper left\")\n",
    "fig.show()"
   ]
  },
  {
   "cell_type": "code",
   "execution_count": null,
   "id": "ba6b5296",
   "metadata": {},
   "outputs": [],
   "source": []
  }
 ],
 "metadata": {
  "kernelspec": {
   "display_name": "SageMath 9.5",
   "language": "sage",
   "name": "sagemath-9.5"
  },
  "language_info": {
   "codemirror_mode": {
    "name": "ipython",
    "version": 3
   },
   "file_extension": ".py",
   "mimetype": "text/x-python",
   "name": "python",
   "nbconvert_exporter": "python",
   "pygments_lexer": "ipython3",
   "version": "3.9.9"
  }
 },
 "nbformat": 4,
 "nbformat_minor": 5
}
