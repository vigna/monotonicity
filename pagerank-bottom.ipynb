{
 "cells": [
  {
   "cell_type": "code",
   "execution_count": 1,
   "id": "f39e2617",
   "metadata": {},
   "outputs": [],
   "source": [
    "import numpy as np\n",
    "import math\n",
    "import matplotlib as plt\n",
    "import networkx as nx\n",
    "\n",
    "%matplotlib inline\n",
    "\n",
    "# Ring of polynomials for the weights of the base\n",
    "R.<k> = PolynomialRing(QQ)\n",
    "\n",
    "# Ring of polynomials in a whose coefficients are rational functions in k\n",
    "S.<a> = PolynomialRing(FractionField(R))\n",
    "\n",
    "def sturm(p):\n",
    "    \"\"\"\n",
    "        Computes the Sturm polynomials.\n",
    "        \n",
    "        Args:\n",
    "            p: a polynomial in a with rational coefficients in k.\n",
    "            \n",
    "        Returns:\n",
    "            the Sturm polynomials of p.\n",
    "    \"\"\"\n",
    "    S = []\n",
    "    if p == 0:\n",
    "        return S\n",
    "    S.append(p)\n",
    "    S.append(diff(p, a))\n",
    "    assert S[-2].gcd(S[-1]) == 1\n",
    "    while True:\n",
    "        next_p = -S[-2].mod(S[-1])\n",
    "        if next_p == 0:\n",
    "            break\n",
    "        S.append(next_p)\n",
    "    return S\n",
    "\n",
    "# Maybe there's a better way, but I couldn't find it\n",
    "\n",
    "x = var('x')\n",
    "ge_op = (x>=0).operator()\n",
    "gt_op = (x>0).operator()\n",
    "lt_op = (x<0).operator()\n",
    "\n",
    "def changes(S, *points, power=1):\n",
    "    \"\"\"\n",
    "        Computes sign changes in the Sturm polynomials in a at given points.\n",
    "        \n",
    "        Args:\n",
    "            S: the Sturm polynomials of a polynomial in a.\n",
    "            points: the points at which sign changes must be computed.\n",
    "            power: replace k with x^power; by passing points expressed in\n",
    "                x, rather than in k, one can effectively compute sign\n",
    "                changes at points containing roots of k whose order is a \n",
    "                divisor of power.\n",
    "            \n",
    "        Returns:\n",
    "            a dictionary mapping each point to the number of sign changes and the first valid value k for such changes.\n",
    "    \"\"\"\n",
    "\n",
    "    changes={}\n",
    "    for point in points:\n",
    "        prev_op = None\n",
    "        c = 0\n",
    "        m = 0\n",
    "        for i in range(len(S)):\n",
    "            sol = solve(S[i](a=point)(k=x^power)>0,x)\n",
    "            op = '+'\n",
    "            if len(sol) > 0:\n",
    "                if isinstance(sol[-1], list):\n",
    "                    ineq = sol[-1][-1]\n",
    "                    assert ineq.lhs() == x\n",
    "                    if ineq.operator() != ge_op and ineq.operator() != gt_op:\n",
    "                        op = '-'\n",
    "                    m = max(m, ineq.rhs())\n",
    "                else:\n",
    "                    # Here we expect x < +Infinity\n",
    "                    assert sol[-1].operator() == lt_op and sol[-1].lhs() == x and sol[-1].rhs() == +Infinity\n",
    "            else:\n",
    "                # Everywhere negative\n",
    "                op = '-'\n",
    "            if i > 0 and op != prev_op:\n",
    "                c += 1\n",
    "            prev_op = op\n",
    "        \n",
    "        # Now we try to improve m manually\n",
    "            \n",
    "        for r in range(math.ceil(m) - 1, 0, -1):\n",
    "            prev_op = '0'\n",
    "            d = 0\n",
    "            for i in range(len(S)):\n",
    "                if S[i].denominator()(a=point)(k=r) == 0:\n",
    "                    d = -1\n",
    "                    break\n",
    "                v = S[i](a=point)(k=r)\n",
    "                if v == 0:\n",
    "                    op = '0'\n",
    "                elif v > 0:\n",
    "                    op = '+'\n",
    "                else:\n",
    "                    op = '-'\n",
    "                if op != prev_op and op != '0' and prev_op != '0':\n",
    "                    d += 1\n",
    "                prev_op = op\n",
    "                \n",
    "            if d == c:\n",
    "                m = m -1\n",
    "            else:\n",
    "                break\n",
    "        \n",
    "        changes[point] = [c, m^power]\n",
    "        \n",
    "    return changes \n",
    "\n",
    "\n",
    "def printChanges(changes, l, r):\n",
    "    \"\"\"\n",
    "        Prints (in an easy-to-read way) the number of changes of a function in a given interval (l..r].\n",
    "        \n",
    "        Args:\n",
    "            changes: the result of changes(S,l,r).\n",
    "            l: the left estreme passed to changes().\n",
    "            r: the right extreme passed to changes().\n",
    "    \"\"\"\n",
    "    bound = max(changes[l][1], changes[r][1])\n",
    "    print(\"Number of zeros for \" , l, \" < ⍺ ≤ \", r, \": \", changes[l][0] - changes[r][0], \" for k \", (\"> \" if math.ceil(bound) == bound else \"≥ \" ), math.ceil(bound), sep = \"\")\n",
    "\n",
    "\n",
    "def printLimits(*points):\n",
    "    \"\"\"\n",
    "        Prints (in an easy-to-read way) the limits at infinity of the arguments.\n",
    "    \"\"\"\n",
    "    for point in points:\n",
    "        print(point, \"→\", limit(point, k=infinity), \"for k → ∞\")\n",
    "\n",
    "\n",
    "def lower_bound(solve_res):\n",
    "    \"\"\"\n",
    "        Returns the very last inequality of a solve() result, given that is a lower bound\n",
    "        (an assertion will fail otherwise), rounding to the next integer.\n",
    "        \n",
    "        Args:\n",
    "            solve_res: the result of solve().\n",
    "            \n",
    "        Returns:\n",
    "            a string given by \"> C\" or \"≥ C\", where C is the lower bound.\n",
    "    \"\"\"\n",
    "    t = solve_res[-1][-1]\n",
    "    operator = t.operator()\n",
    "    operands = t.operands()\n",
    "    assert operator == gt_op or operator == ge_op\n",
    "    bound = math.ceil(operands[1])\n",
    "    if operator == gt_op and bound == operands[1]:\n",
    "        return \"≥ \" + str(bound + 1)\n",
    "    else:\n",
    "        return \"≥ \" + str(bound)\n",
    "    "
   ]
  },
  {
   "cell_type": "markdown",
   "id": "03310428",
   "metadata": {},
   "source": [
    "# First Counterexample (Bottom Violation)"
   ]
  },
  {
   "cell_type": "code",
   "execution_count": 2,
   "id": "9ddaed02",
   "metadata": {},
   "outputs": [],
   "source": [
    "# Score and rank monotonicity counterexample in which the less important node loses score\n",
    "# Node names correspond to the labeling in the paper\n",
    "\n",
    "A_pre = matrix(9, 9, [\n",
    "    0, 0, 0, 0, 0, 0, 0, 1/k, 1/k, \n",
    "    0, 0, 1, 0, 0, 0, 0, 0, 0, \n",
    "    0, 1/2, 0, 1/2, 0, 0, 0, 0, 0, \n",
    "    0, 0, 1/(k + 2), 0, 1/(k + 2), 1/(k + 2), 0, 0, 0, \n",
    "    0, 0, 0, 1, (k - 1)/k, 0, 0, 0, 0, \n",
    "    0, 0, 0, 1/2, 0, 0, 1/2, 0, 0, \n",
    "    0, 0, 0, 0, 0, 1/2, 0, 1/2, 0, \n",
    "    1/(k + 1), 0, 0, 0, 0, 0, 1/(k + 1), 0, 1/(k + 1), \n",
    "    (k - 1)/k, 0, 0, 0, 0, 0, 0, (k - 1)/k, (k - 2)/k\n",
    "])\n",
    "\n",
    "A_post = matrix(9, 9, [\n",
    "    0, 1/(k + 1), 0, 0, 0, 0, 0, 1/(k + 1), 1/(k + 1), \n",
    "    1/2, 0, 1/2, 0, 0, 0, 0, 0, 0, \n",
    "    0, 1/2, 0, 1/2, 0, 0, 0, 0, 0, \n",
    "    0, 0, 1/(k + 2), 0, 1/(k + 2), 1/(k + 2), 0, 0, 0, \n",
    "    0, 0, 0, 1, (k - 1)/k, 0, 0, 0, 0, \n",
    "    0, 0, 0, 1/2, 0, 0, 1/2, 0, 0, \n",
    "    0, 0, 0, 0, 0, 1/2, 0, 1/2, 0, \n",
    "    1/(k + 1), 0, 0, 0, 0, 0, 1/(k + 1), 0, 1/(k + 1), \n",
    "    (k - 1)/k, 0, 0, 0, 0, 0, 0, (k - 1)/k, (k - 2)/k\n",
    "])\n",
    "\n",
    "# Determinants are positive\n",
    "\n",
    "det_pre = det(identity_matrix(9) - a * A_pre)\n",
    "det_post = det(identity_matrix(9) - a * A_post)\n",
    "\n",
    "lower_bound(solve(det_pre(a=2/3)(k=x)>0, x))\n",
    "lower_bound(solve(det_post(a=2/3)(k=x)>0, x))\n",
    "\n",
    "# Column sums of the adjugate (AKA PageRank multiplied by the graph size, by the determinant, and divided by 1 - a)\n",
    "\n",
    "r_pre = vector([1]*9) * ~(identity_matrix(9) - a * A_pre) * det_pre\n",
    "r_post = vector([1]*9) * ~(identity_matrix(9) - a * A_post) * det_post\n",
    "\n",
    "assert r_pre[0] + r_pre[1] + r_pre[2] +  r_pre[3] +  r_pre[4] * k  + r_pre[5] + r_pre[6] + r_pre[7] + r_pre[8] * (k - 1) == (k + 7 + k - 1) * det_pre / (1 - a)\n",
    "assert r_post[0] + r_post[1] + r_post[2] +  r_post[3] +  r_post[4] * k  + r_post[5] + r_post[6] + r_post[7] + r_post[8] * (k - 1) == (k + 7 + k - 1) * det_post / (1 - a)"
   ]
  },
  {
   "cell_type": "markdown",
   "id": "be64785b",
   "metadata": {},
   "source": [
    "## Score Comparison"
   ]
  },
  {
   "cell_type": "markdown",
   "id": "350222c3",
   "metadata": {},
   "source": [
    "Node 0 is more important than node 1 when $\\alpha=\\frac23$."
   ]
  },
  {
   "cell_type": "code",
   "execution_count": 3,
   "id": "f0cfacd7",
   "metadata": {
    "scrolled": true
   },
   "outputs": [
    {
     "name": "stdout",
     "output_type": "stream",
     "text": [
      "Node 0 is more important than node 1 when ⍺ = 2/3 for k ≥ 1\n"
     ]
    }
   ],
   "source": [
    "p = S(r_pre[0] - r_pre[1])\n",
    "\n",
    "print(\"Node 0 is more important than node 1 when ⍺ = 2/3 for k\", lower_bound(solve(p(a=2/3)(k=x)>0, x)))"
   ]
  },
  {
   "cell_type": "markdown",
   "id": "b086bff6",
   "metadata": {},
   "source": [
    "It is also more important when $\\frac23 - \\frac{2k}{3k + 100}<\\alpha\\leq \\frac23 + \\frac k{3k+100}$."
   ]
  },
  {
   "cell_type": "code",
   "execution_count": 4,
   "id": "8a4a402c",
   "metadata": {},
   "outputs": [
    {
     "name": "stdout",
     "output_type": "stream",
     "text": [
      "Number of zeros for 200/9/(k + 100/3) < ⍺ ≤ (k + 200/9)/(k + 100/3): 0 for k ≥ 2\n",
      "\n",
      "200/9/(k + 100/3) → 0 for k → ∞\n",
      "(k + 200/9)/(k + 100/3) → 1 for k → ∞\n"
     ]
    }
   ],
   "source": [
    "St = sturm(p)\n",
    "\n",
    "l, r = 2/3 - 2*k/(3*k+100),  2/3 + k/(3*k+100)\n",
    "\n",
    "printChanges(changes(St, l, r), l, r)\n",
    "print()\n",
    "printLimits(l, r)"
   ]
  },
  {
   "cell_type": "markdown",
   "id": "312e60cc",
   "metadata": {},
   "source": [
    "## Score Counterexample"
   ]
  },
  {
   "cell_type": "markdown",
   "id": "e8f53580",
   "metadata": {},
   "source": [
    "Node 1 loses score when $\\alpha = \\frac23$."
   ]
  },
  {
   "cell_type": "code",
   "execution_count": 5,
   "id": "2d52384d",
   "metadata": {},
   "outputs": [
    {
     "name": "stdout",
     "output_type": "stream",
     "text": [
      "Node 1 loses score when ⍺ = 2/3 for k ≥ 11\n"
     ]
    }
   ],
   "source": [
    "p = (1 - a) * r_post[1] / det_post - (1 - a) * r_pre[1] / det_pre\n",
    "\n",
    "print(\"Node 1 loses score when ⍺ = 2/3 for k\", lower_bound(solve(p(a=2/3)(k=x)<0,x)))"
   ]
  },
  {
   "cell_type": "markdown",
   "id": "062d6335",
   "metadata": {
    "scrolled": true
   },
   "source": [
    "It loses score also when $\\frac23 - \\frac{2k}{3k + 100}<\\alpha\\leq \\frac23 + \\frac k{3k+100}$."
   ]
  },
  {
   "cell_type": "code",
   "execution_count": 6,
   "id": "56d7b713",
   "metadata": {},
   "outputs": [
    {
     "name": "stdout",
     "output_type": "stream",
     "text": [
      "Number of zeros for 200/9/(k + 100/3) < ⍺ ≤ (k + 200/9)/(k + 100/3): 0 for k ≥ 13\n",
      "\n",
      "200/9/(k + 100/3) → 0 for k → ∞\n",
      "(k + 200/9)/(k + 100/3) → 1 for k → ∞\n"
     ]
    }
   ],
   "source": [
    "St = sturm(S(p.numerator()))\n",
    "\n",
    "l, r = 2/3 - 2*k/(3*k+100), 2/3 + k/(3*k+100)\n",
    "\n",
    "printChanges(changes(St, l, r), l, r)\n",
    "print()\n",
    "printLimits(l, r)"
   ]
  },
  {
   "cell_type": "markdown",
   "id": "215fd3fc",
   "metadata": {},
   "source": [
    "## Rank Counterexample"
   ]
  },
  {
   "cell_type": "markdown",
   "id": "1a6de830",
   "metadata": {},
   "source": [
    "### PRE"
   ]
  },
  {
   "cell_type": "markdown",
   "id": "37f86b32",
   "metadata": {},
   "source": [
    "Node 1 is more important than node 5 when $\\alpha = \\frac23$."
   ]
  },
  {
   "cell_type": "code",
   "execution_count": 7,
   "id": "1546ef31",
   "metadata": {},
   "outputs": [
    {
     "name": "stdout",
     "output_type": "stream",
     "text": [
      "Node 1 is more important than node 5 when ⍺ = 2/3 for k ≥ 13\n"
     ]
    }
   ],
   "source": [
    "p = S(r_pre[1] - r_pre[5])\n",
    "\n",
    "print(\"Node 1 is more important than node 5 when ⍺ = 2/3 for k\", lower_bound(solve(p(a=2/3)(k=x)>0,x)))"
   ]
  },
  {
   "cell_type": "markdown",
   "id": "c7a13900",
   "metadata": {},
   "source": [
    "It is also more important when $\\frac23-\\frac{2k}{3k+100}<\\alpha\\leq \\frac23 + \\frac k{3k+100}$."
   ]
  },
  {
   "cell_type": "code",
   "execution_count": 8,
   "id": "c467d29d",
   "metadata": {},
   "outputs": [
    {
     "name": "stdout",
     "output_type": "stream",
     "text": [
      "Number of zeros for 200/9/(k + 100/3) < ⍺ ≤ (k + 200/9)/(k + 100/3): 0 for k ≥ 14\n",
      "\n",
      "200/9/(k + 100/3) → 0 for k → ∞\n",
      "(k + 200/9)/(k + 100/3) → 1 for k → ∞\n"
     ]
    }
   ],
   "source": [
    "St = sturm(p)\n",
    "l, r = 2/3 - 2*k/(3*k+100), 2/3 + k/(3*k+100)\n",
    "\n",
    "printChanges(changes(St, l, r), l, r)\n",
    "print()\n",
    "printLimits(l, r)"
   ]
  },
  {
   "cell_type": "markdown",
   "id": "da58723a",
   "metadata": {},
   "source": [
    "### POST\n"
   ]
  },
  {
   "cell_type": "markdown",
   "id": "8fb1e862",
   "metadata": {},
   "source": [
    "Node 1 is less important than node 5 when $\\alpha = \\frac23$."
   ]
  },
  {
   "cell_type": "code",
   "execution_count": 9,
   "id": "ba4702bc",
   "metadata": {
    "scrolled": false
   },
   "outputs": [
    {
     "name": "stdout",
     "output_type": "stream",
     "text": [
      "Node 1 is less important than node 5 when ⍺ = 2/3 for k ≥ 5\n"
     ]
    }
   ],
   "source": [
    "p = S((r_post[1] - r_post[5])/(1 - a)^2)\n",
    "\n",
    "print(\"Node 1 is less important than node 5 when ⍺ = 2/3 for k\", lower_bound(solve(p(a=2/3)(k=x)<0,x)))"
   ]
  },
  {
   "cell_type": "markdown",
   "id": "24e8ad3c",
   "metadata": {},
   "source": [
    "It is also less important when $\\frac23-\\frac{2k}{3k+100}<\\alpha\\leq \\frac23 + \\frac k{3k+100}$."
   ]
  },
  {
   "cell_type": "code",
   "execution_count": 10,
   "id": "a2612079",
   "metadata": {},
   "outputs": [
    {
     "name": "stdout",
     "output_type": "stream",
     "text": [
      "Number of zeros for 200/9/(k + 100/3) < ⍺ ≤ (k + 200/9)/(k + 100/3): 0 for k ≥ 5\n",
      "\n",
      "200/9/(k + 100/3) → 0 for k → ∞\n",
      "(k + 200/9)/(k + 100/3) → 1 for k → ∞\n"
     ]
    }
   ],
   "source": [
    "St = sturm(p)\n",
    "l, r = 2/3 - 2*k/(3*k+100), 2/3 + k/(3*k+100)\n",
    "\n",
    "printChanges(changes(St, l, r), l, r)\n",
    "print()\n",
    "printLimits(l, r)"
   ]
  },
  {
   "cell_type": "markdown",
   "id": "b8e3f1ac",
   "metadata": {},
   "source": [
    "# Statements Outside Interval of Validity"
   ]
  },
  {
   "cell_type": "markdown",
   "id": "15ce6249",
   "metadata": {},
   "source": [
    "## Score Comparison"
   ]
  },
  {
   "cell_type": "code",
   "execution_count": 11,
   "id": "720826f6",
   "metadata": {
    "scrolled": true
   },
   "outputs": [
    {
     "name": "stdout",
     "output_type": "stream",
     "text": [
      "Number of zeros for 0 < ⍺ ≤ 200/9/(k + 100/3): 1 for k ≥ 60\n",
      "Number of zeros for (k + 200/9)/(k + 100/3) < ⍺ ≤ 1: 0 for k ≥ 2\n",
      "p(1) = (1/4*k^2 + 1/2*k - 3/4)/(k^4 + 2*k^3)\n"
     ]
    }
   ],
   "source": [
    "p = S(r_pre[0] - r_pre[1])\n",
    "\n",
    "St = sturm(p)\n",
    "\n",
    "l, r = 2/3 - 2*k/(3*k+100), 2/3 + k/(3*k+100)\n",
    "\n",
    "printChanges(changes(St, 0, l), 0, l)\n",
    "printChanges(changes(St, r, 1), r, 1)\n",
    "print(\"p(1) =\", p(a=1))"
   ]
  },
  {
   "cell_type": "markdown",
   "id": "e4bf1332",
   "metadata": {},
   "source": [
    "## Score Counterexample"
   ]
  },
  {
   "cell_type": "code",
   "execution_count": 12,
   "id": "b5f32309",
   "metadata": {},
   "outputs": [
    {
     "name": "stdout",
     "output_type": "stream",
     "text": [
      "Number of zeros for 0 < ⍺ ≤ 200/9/(k + 100/3): 2 for k ≥ 13\n",
      "Number of zeros for (k + 200/9)/(k + 100/3) < ⍺ ≤ 1: 1 for k ≥ 12\n",
      "p(1) = (k^3 + 4*k^2 + 7*k + 12)/(k^4 + 2*k^3 + 12*k^2 + 11*k + 30)\n"
     ]
    }
   ],
   "source": [
    "p = (1 - a) * r_post[1] / det_post - (1 - a) * r_pre[1] / det_pre\n",
    "\n",
    "St = sturm(S(p.numerator()))\n",
    "\n",
    "l, r = 2/3 - 2*k/(3*k+100), 2/3 + k/(3*k+100)\n",
    "\n",
    "printChanges(changes(St, 0, l), 0, l)\n",
    "printChanges(changes(St, r, 1), r, 1)\n",
    "print(\"p(1) =\", p(a=1))"
   ]
  },
  {
   "cell_type": "markdown",
   "id": "2b679572",
   "metadata": {},
   "source": [
    "## Rank Counterexample"
   ]
  },
  {
   "cell_type": "markdown",
   "id": "61e326a1",
   "metadata": {},
   "source": [
    "### PRE"
   ]
  },
  {
   "cell_type": "code",
   "execution_count": 13,
   "id": "c20608e8",
   "metadata": {},
   "outputs": [
    {
     "name": "stdout",
     "output_type": "stream",
     "text": [
      "Number of zeros for 0 < ⍺ ≤ 200/9/(k + 100/3): 1 for k ≥ 14\n",
      "Number of zeros for (k + 200/9)/(k + 100/3) < ⍺ ≤ 1: 1 for k ≥ 13\n",
      "p(1) = (-1/4*k - 3/4)/(k^4 + 2*k^3)\n"
     ]
    }
   ],
   "source": [
    "p = S(r_pre[1] - r_pre[5])\n",
    "\n",
    "St = sturm(p)\n",
    "\n",
    "l, r = 2/3 - 2*k/(3*k+100), 2/3 + k/(3*k+100)\n",
    "\n",
    "printChanges(changes(St, 0, l), 0, l)\n",
    "printChanges(changes(St, r, 1), r, 1)\n",
    "print(\"p(1) =\", p(a=1))"
   ]
  },
  {
   "cell_type": "markdown",
   "id": "07e51289",
   "metadata": {},
   "source": [
    "### POST"
   ]
  },
  {
   "cell_type": "code",
   "execution_count": 14,
   "id": "5bc4e87d",
   "metadata": {
    "scrolled": false
   },
   "outputs": [
    {
     "name": "stdout",
     "output_type": "stream",
     "text": [
      "Number of zeros for 0 < ⍺ ≤ 200/9/(k + 100/3): 2 for k ≥ 5\n",
      "Number of zeros for (k + 200/9)/(k + 100/3) < ⍺ ≤ 1: 0 for k ≥ 4\n",
      "p(1) = (-3/8*k^2 + 5/8*k + 3/2)/(k^3 + 3*k^2 + 2*k)\n"
     ]
    }
   ],
   "source": [
    "p = S((r_post[1] - r_post[5])/(1 - a)^2)\n",
    "\n",
    "St = sturm(p)\n",
    "\n",
    "l, r = 2/3 - 2*k/(3*k+100), 2/3 + k/(3*k+100)\n",
    "\n",
    "printChanges(changes(St, 0, l), 0, l)\n",
    "printChanges(changes(St, r, 1), r, 1)\n",
    "print(\"p(1) =\", p(a=1))"
   ]
  },
  {
   "cell_type": "markdown",
   "id": "7f21fe59",
   "metadata": {},
   "source": [
    "## Demotion"
   ]
  },
  {
   "cell_type": "markdown",
   "id": "78edd191",
   "metadata": {},
   "source": [
    "There are 6 nodes more important than 1 before adding the edge when $\\alpha=\\frac23$."
   ]
  },
  {
   "cell_type": "code",
   "execution_count": 15,
   "id": "e7cd03ed",
   "metadata": {},
   "outputs": [
    {
     "name": "stdout",
     "output_type": "stream",
     "text": [
      "Node 0 is ultimately more important than node 1 for k ≥ 1\n",
      "Node 2 is ultimately more important than node 1 for k ≥ 1\n",
      "Node 3 is ultimately more important than node 1 for k ≥ 1\n",
      "Node 4 is ultimately more important than node 1 for k ≥ 2\n",
      "Node 5 is ultimately not more important than node 1\n",
      "Node 6 is ultimately not more important than node 1\n",
      "Node 7 is ultimately more important than node 1 for k ≥ 1\n",
      "Node 8 is ultimately more important than node 1 for k ≥ 1\n"
     ]
    }
   ],
   "source": [
    "for i in range(9):\n",
    "    if i == 1:\n",
    "        continue\n",
    "    p = S(r_pre[i] - r_pre[1])\n",
    "    if p == 0:\n",
    "        print(\"Node\", i, \"has the same score of node 1\")\n",
    "    else:\n",
    "        try:\n",
    "            kmin = lower_bound(solve(p(a=2/3)(k=x)>0,x))\n",
    "            print(\"Node\", i, \"is ultimately more important than node 1 for k\", kmin)\n",
    "        except:\n",
    "            print(\"Node\", i, \"is ultimately not more important than node 1\")\n"
   ]
  },
  {
   "cell_type": "markdown",
   "id": "439fade5",
   "metadata": {},
   "source": [
    "There are 6 nodes more important than 1 also when $\\frac23-\\frac{2k}{3k+100}<\\alpha\\leq \\frac23 + \\frac k{3k+100}$."
   ]
  },
  {
   "cell_type": "code",
   "execution_count": 16,
   "id": "8f3f0246",
   "metadata": {},
   "outputs": [
    {
     "name": "stdout",
     "output_type": "stream",
     "text": [
      "Number of zeros for 200/9/(k + 100/3) < ⍺ ≤ (k + 200/9)/(k + 100/3): 0 for k ≥ 2\n",
      "Number of zeros for 200/9/(k + 100/3) < ⍺ ≤ (k + 200/9)/(k + 100/3): 0 for k ≥ 1\n",
      "Number of zeros for 200/9/(k + 100/3) < ⍺ ≤ (k + 200/9)/(k + 100/3): 0 for k ≥ 96\n",
      "Number of zeros for 200/9/(k + 100/3) < ⍺ ≤ (k + 200/9)/(k + 100/3): 0 for k ≥ 2\n",
      "Number of zeros for 200/9/(k + 100/3) < ⍺ ≤ (k + 200/9)/(k + 100/3): 0 for k ≥ 14\n",
      "Number of zeros for 200/9/(k + 100/3) < ⍺ ≤ (k + 200/9)/(k + 100/3): 0 for k ≥ 13\n",
      "Number of zeros for 200/9/(k + 100/3) < ⍺ ≤ (k + 200/9)/(k + 100/3): 0 for k ≥ 228\n",
      "Number of zeros for 200/9/(k + 100/3) < ⍺ ≤ (k + 200/9)/(k + 100/3): 0 for k ≥ 2\n",
      "\n",
      "200/9/(k + 100/3) → 0 for k → ∞\n",
      "(k + 200/9)/(k + 100/3) → 1 for k → ∞\n"
     ]
    }
   ],
   "source": [
    "l, r = 2/3 - 2*k/(3*k+100), 2/3 + k/(3*k+100)\n",
    "\n",
    "for i in range(9):\n",
    "    if i == 1:\n",
    "        continue\n",
    "    p = S(r_pre[i] - r_pre[1])\n",
    "    St = sturm(p)\n",
    "    printChanges(changes(St, l, r), l, r)\n",
    "\n",
    "print()\n",
    "printLimits(l, r)"
   ]
  },
  {
   "cell_type": "markdown",
   "id": "7a24165f",
   "metadata": {},
   "source": [
    "There are 7 nodes more important than 1 after adding the edge when $\\alpha=\\frac23$."
   ]
  },
  {
   "cell_type": "code",
   "execution_count": 17,
   "id": "f1e34a82",
   "metadata": {},
   "outputs": [
    {
     "name": "stdout",
     "output_type": "stream",
     "text": [
      "Node 0 is ultimately more important than node 1 for k ≥ 1\n",
      "Node 2 is ultimately more important than node 1 for k ≥ 5\n",
      "Node 3 is ultimately more important than node 1 for k ≥ 1\n",
      "Node 4 is ultimately more important than node 1 for k ≥ 3\n",
      "Node 5 is ultimately more important than node 1 for k ≥ 5\n",
      "Node 6 has the same score of node 1\n",
      "Node 7 is ultimately more important than node 1 for k ≥ 1\n",
      "Node 8 is ultimately more important than node 1 for k ≥ 3\n"
     ]
    }
   ],
   "source": [
    "for i in range(9):\n",
    "    if i == 1:\n",
    "        continue\n",
    "    p = S(r_post[i] - r_post[1])\n",
    "    if p == 0:\n",
    "        print(\"Node\", i, \"has the same score of node 1\")\n",
    "    else:\n",
    "        try:\n",
    "            kmin = lower_bound(solve(p(a=2/3)(k=x)>0,x))\n",
    "            print(\"Node\", i, \"is ultimately more important than node 1 for k\", kmin)\n",
    "        except:\n",
    "            print(\"Node\", i, \"is ultimately not more important than node 1\")"
   ]
  },
  {
   "cell_type": "markdown",
   "id": "97a229a2",
   "metadata": {},
   "source": [
    "There are 7 nodes more important than 1 also when $\\frac23-\\frac{2k}{3k+100}<\\alpha\\leq \\frac23 + \\frac k{3k+100}$."
   ]
  },
  {
   "cell_type": "code",
   "execution_count": 18,
   "id": "50510ba9",
   "metadata": {},
   "outputs": [
    {
     "name": "stdout",
     "output_type": "stream",
     "text": [
      "Number of zeros for 200/9/(k + 100/3) < ⍺ ≤ (k + 200/9)/(k + 100/3): 0 for k ≥ 5\n",
      "Number of zeros for 200/9/(k + 100/3) < ⍺ ≤ (k + 200/9)/(k + 100/3): 0 for k ≥ 5\n",
      "Number of zeros for 200/9/(k + 100/3) < ⍺ ≤ (k + 200/9)/(k + 100/3): 0 for k ≥ 1\n",
      "Number of zeros for 200/9/(k + 100/3) < ⍺ ≤ (k + 200/9)/(k + 100/3): 0 for k ≥ 3\n",
      "Number of zeros for 200/9/(k + 100/3) < ⍺ ≤ (k + 200/9)/(k + 100/3): 0 for k ≥ 5\n",
      "Number of zeros for 200/9/(k + 100/3) < ⍺ ≤ (k + 200/9)/(k + 100/3): 0 for k > 0\n",
      "Number of zeros for 200/9/(k + 100/3) < ⍺ ≤ (k + 200/9)/(k + 100/3): 0 for k ≥ 5\n",
      "Number of zeros for 200/9/(k + 100/3) < ⍺ ≤ (k + 200/9)/(k + 100/3): 0 for k ≥ 3\n",
      "\n",
      "200/9/(k + 100/3) → 0 for k → ∞\n",
      "(k + 200/9)/(k + 100/3) → 1 for k → ∞\n"
     ]
    }
   ],
   "source": [
    "l, r = 2/3 - 2*k/(3*k+100), 2/3 + k/(3*k+100)\n",
    "\n",
    "for i in range(9):\n",
    "    if i == 1:\n",
    "        continue\n",
    "    p = S(r_post[i] - r_post[1])\n",
    "    if i == 2 or i == 5:\n",
    "        p = S(p/(1 - a)^2)\n",
    "    St = sturm(p)\n",
    "    printChanges(changes(St, l, r), l, r)\n",
    "\n",
    "print()\n",
    "printLimits(l, r)"
   ]
  },
  {
   "cell_type": "markdown",
   "id": "79bb24f4",
   "metadata": {},
   "source": [
    "# NetworkX Graphs"
   ]
  },
  {
   "cell_type": "code",
   "execution_count": 19,
   "id": "09a91622",
   "metadata": {},
   "outputs": [],
   "source": [
    "def getGH(kk):\n",
    "    \"\"\"\n",
    "        Returns the networkx graphs of $G_k$ and $G_k'$.\n",
    "        \n",
    "        Args:\n",
    "            the value of k\n",
    "            \n",
    "        Returns:\n",
    "            the graph $G_k$, the graph $G_k'$ and a dictionary whose keys are the nodes of the graph and whose values\n",
    "            are the node names suitable to be passed to the draw function.\n",
    "    \"\"\"\n",
    "    labels={}\n",
    "    G=nx.Graph()\n",
    "    #Vertices\n",
    "    for i in [0,1,2,3,5,6,7]:\n",
    "        G.add_node(i)\n",
    "        labels[i] = i\n",
    "    for i in range(kk):\n",
    "        G.add_node(\"4_{}\".format(i))\n",
    "        labels[\"4_{}\".format(i)] = 4\n",
    "    for i in range(kk-1):\n",
    "        G.add_node(\"8_{}\".format(i))\n",
    "        labels[\"8_{}\".format(i)] = 8\n",
    "    #Edges\n",
    "    for i in range(kk):\n",
    "        G.add_edge(\"4_{}\".format(i), 3)\n",
    "        for j in range(i+1, kk):\n",
    "            G.add_edge(\"4_{}\".format(i), \"4_{}\".format(j))\n",
    "    for i in range(kk-1):\n",
    "        G.add_edge(\"8_{}\".format(i), 0)\n",
    "        G.add_edge(\"8_{}\".format(i), 7)\n",
    "        for j in range(i+1, kk-1):\n",
    "            G.add_edge(\"8_{}\".format(i), \"8_{}\".format(j))\n",
    "    G.add_edges_from([(3,2), (2,1), (3,5), (5,6), (6,7), (7,0)])\n",
    "    H=G.copy()\n",
    "    H.add_edge(0,1,color='r')\n",
    "    return G, H, labels"
   ]
  },
  {
   "cell_type": "markdown",
   "id": "d77fe63a",
   "metadata": {},
   "source": [
    "Let's try to compute explicitly PageRank values for given values of $k$ and $\\alpha$."
   ]
  },
  {
   "cell_type": "code",
   "execution_count": 20,
   "id": "41e6364e",
   "metadata": {},
   "outputs": [
    {
     "data": {
      "image/png": "[encoded data removed]",
      "text/plain": [
       "<Figure size 432x288 with 1 Axes>"
      ]
     },
     "metadata": {},
     "output_type": "display_data"
    }
   ],
   "source": [
    "kk=4\n",
    "aa=0.7\n",
    "G,H,labels=getGH(kk)\n",
    "nx.draw(H, nx.kamada_kawai_layout(H), with_labels=True, labels=labels, node_color=[\"red\"]*2+[\"lightblue\"]*(len(H)-2))"
   ]
  },
  {
   "cell_type": "markdown",
   "id": "21eea927",
   "metadata": {},
   "source": [
    "Check that this is equivalent to its symbolic counterpart."
   ]
  },
  {
   "cell_type": "code",
   "execution_count": 21,
   "id": "a7e5f7bd",
   "metadata": {},
   "outputs": [],
   "source": [
    "numeric_pre = nx.pagerank(G, alpha=aa, tol=1E-10, max_iter=10000)\n",
    "numeric_post = nx.pagerank(H, alpha=aa, tol=1E-10, max_iter=10000)\n",
    "for xx in G.nodes():\n",
    "    expected = ((1 - a) * r_pre[labels[xx]] / det_pre / G.number_of_nodes())(k=kk)(a=aa)\n",
    "    actual = numeric_pre[xx]\n",
    "    assert abs(float(expected-actual)) < 1E-9\n",
    "    expected = ((1 - a) * r_post[labels[xx]] / det_post / G.number_of_nodes())(k=kk)(a=aa)\n",
    "    actual = numeric_post[xx]\n",
    "    assert abs(float(expected-actual)) < 1E-9\n"
   ]
  },
  {
   "cell_type": "code",
   "execution_count": null,
   "id": "9ea66660",
   "metadata": {},
   "outputs": [],
   "source": []
  }
 ],
 "metadata": {
  "kernelspec": {
   "display_name": "SageMath 9.5",
   "language": "sage",
   "name": "sagemath-9.5"
  },
  "language_info": {
   "codemirror_mode": {
    "name": "ipython",
    "version": 3
   },
   "file_extension": ".py",
   "mimetype": "text/x-python",
   "name": "python",
   "nbconvert_exporter": "python",
   "pygments_lexer": "ipython3",
   "version": "3.9.9"
  }
 },
 "nbformat": 4,
 "nbformat_minor": 5
}
